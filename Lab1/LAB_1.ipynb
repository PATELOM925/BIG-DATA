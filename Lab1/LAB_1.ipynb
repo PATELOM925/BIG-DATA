{
 "cells": [
  {
   "cell_type": "code",
   "execution_count": 0,
   "metadata": {
    "application/vnd.databricks.v1+cell": {
     "cellMetadata": {
      "byteLimit": 2048000,
      "rowLimit": 10000
     },
     "inputWidgets": {},
     "nuid": "5130d2e9-d042-4e0e-8c2f-194bda8e1e60",
     "showTitle": false,
     "title": ""
    }
   },
   "outputs": [
    {
     "output_type": "stream",
     "name": "stdout",
     "output_type": "stream",
     "text": [
      "Hello World\n"
     ]
    }
   ],
   "source": [
    "print(\"Hello World\")"
   ]
  },
  {
   "cell_type": "code",
   "execution_count": 0,
   "metadata": {
    "application/vnd.databricks.v1+cell": {
     "cellMetadata": {
      "byteLimit": 2048000,
      "rowLimit": 10000
     },
     "inputWidgets": {},
     "nuid": "9e159525-e934-463c-b5ae-3831556adf3f",
     "showTitle": false,
     "title": ""
    }
   },
   "outputs": [
    {
     "output_type": "display_data",
     "data": {
      "text/plain": [
       "Enter your number 7"
      ]
     },
     "metadata": {},
     "output_type": "display_data"
    },
    {
     "output_type": "stream",
     "name": "stdout",
     "output_type": "stream",
     "text": [
      "5040\n"
     ]
    }
   ],
   "source": [
    "#Factorial \n",
    "def factorial(n):\n",
    "    if(n==0 or n==1):\n",
    "        return 1\n",
    "    else:\n",
    "        return n * factorial(n-1)\n",
    "\n",
    "n = int(input(\"Enter your number\"))\n",
    "print(factorial(n))        \n",
    "    "
   ]
  },
  {
   "cell_type": "code",
   "execution_count": 0,
   "metadata": {
    "application/vnd.databricks.v1+cell": {
     "cellMetadata": {
      "byteLimit": 2048000,
      "rowLimit": 10000
     },
     "inputWidgets": {},
     "nuid": "668af51c-591e-4ca2-ba61-1c625c10c139",
     "showTitle": false,
     "title": ""
    }
   },
   "outputs": [
    {
     "output_type": "display_data",
     "data": {
      "text/plain": [
       "Enter your number 4"
      ]
     },
     "metadata": {},
     "output_type": "display_data"
    },
    {
     "output_type": "stream",
     "name": "stdout",
     "output_type": "stream",
     "text": [
      "4 is not a prime number\n"
     ]
    }
   ],
   "source": [
    "def prime(n):\n",
    "    if n <= 1:\n",
    "        print(f\"{n} is not a prime number\")\n",
    "    else:\n",
    "        for i in range(2, int(n**0.5) + 1):\n",
    "            if n % i == 0:\n",
    "                print(f\"{n} is not a prime number\")\n",
    "                break\n",
    "        else:\n",
    "            print(f\"{n} is a prime number\")\n",
    "\n",
    "n = int(input(\"Enter your number\"))\n",
    "prime(n)\n"
   ]
  },
  {
   "cell_type": "code",
   "execution_count": 0,
   "metadata": {
    "application/vnd.databricks.v1+cell": {
     "cellMetadata": {
      "byteLimit": 2048000,
      "rowLimit": 10000
     },
     "inputWidgets": {},
     "nuid": "1fb87dc3-ba53-4b5a-8b55-06102a5d8eff",
     "showTitle": false,
     "title": ""
    }
   },
   "outputs": [
    {
     "output_type": "stream",
     "name": "stdout",
     "output_type": "stream",
     "text": [
      "olleH\n"
     ]
    }
   ],
   "source": [
    "## reverse a string\n",
    "\n",
    "n = \"Hello\"\n",
    "p=''.join(reversed(n))\n",
    "print(p)\n",
    "    "
   ]
  },
  {
   "cell_type": "code",
   "execution_count": 0,
   "metadata": {
    "application/vnd.databricks.v1+cell": {
     "cellMetadata": {
      "byteLimit": 2048000,
      "rowLimit": 10000
     },
     "inputWidgets": {},
     "nuid": "3fc31fe3-96cc-4f98-a2be-44ceb60acb3a",
     "showTitle": false,
     "title": ""
    }
   },
   "outputs": [
    {
     "output_type": "stream",
     "name": "stdout",
     "output_type": "stream",
     "text": [
      "H\ne\nl\nl\no\nolleH\n"
     ]
    }
   ],
   "source": [
    "## Reverse String Function\n",
    "\n",
    "def Rever_str(n):\n",
    "    str = ''\n",
    "    for char in n:\n",
    "        str = char + str\n",
    "    return str\n",
    "\n",
    "n = 'Hello'\n",
    "print(Rever_str(n))       "
   ]
  },
  {
   "cell_type": "code",
   "execution_count": 0,
   "metadata": {
    "application/vnd.databricks.v1+cell": {
     "cellMetadata": {
      "byteLimit": 2048000,
      "rowLimit": 10000
     },
     "inputWidgets": {},
     "nuid": "a84062c5-2afd-4e98-9e27-3e0aa2e74963",
     "showTitle": false,
     "title": ""
    }
   },
   "outputs": [
    {
     "output_type": "stream",
     "name": "stdout",
     "output_type": "stream",
     "text": [
      "[0, 1, 1, 2, 3, 5, 8, 13, 21, 34]\n"
     ]
    }
   ],
   "source": [
    "##fibonacci Sequence\n",
    "## 0 + 1 + 1 + 2 + 3 + 5 + 8 + 13....\n",
    "def fib(n, a=0, b=1):\n",
    "    if n == 0:\n",
    "        return []\n",
    "    elif n == 1:\n",
    "        return [a]\n",
    "    else:\n",
    "        return [a] + fib(n - 1, b, a + b)\n",
    "        \n",
    "n = 10\n",
    "print(fib(n))\n",
    "     "
   ]
  },
  {
   "cell_type": "code",
   "execution_count": 0,
   "metadata": {
    "application/vnd.databricks.v1+cell": {
     "cellMetadata": {
      "byteLimit": 2048000,
      "rowLimit": 10000
     },
     "inputWidgets": {},
     "nuid": "0a5ee94b-eb17-4a29-b0a5-67df4fc834f3",
     "showTitle": false,
     "title": ""
    }
   },
   "outputs": [
    {
     "output_type": "stream",
     "name": "stdout",
     "output_type": "stream",
     "text": [
      "{'p': 2, 'n': 4, 'e': 1, 'u': 2, 'm': 2, 'o': 9, 'l': 3, 't': 1, 'r': 2, 'a': 2, 'i': 6, 'c': 6, 's': 4, 'v': 1}\n"
     ]
    }
   ],
   "source": [
    "## frequency of a character\n",
    "def freq(n):\n",
    "    frequency = {}\n",
    "    for char in n:\n",
    "        if char in frequency:\n",
    "            frequency[char] += 1\n",
    "        else:\n",
    "            frequency[char] = 1\n",
    "    return frequency\n",
    "\n",
    "n = \"pneumonoultramicroscopicsilicovolcanoconiosis\"\n",
    "print(freq(n))\n"
   ]
  },
  {
   "cell_type": "code",
   "execution_count": 0,
   "metadata": {
    "application/vnd.databricks.v1+cell": {
     "cellMetadata": {
      "byteLimit": 2048000,
      "rowLimit": 10000
     },
     "inputWidgets": {},
     "nuid": "7d800ca0-8a31-436a-8994-7966f5600b47",
     "showTitle": true,
     "title": "%fs is used to access file storage system , also we cant use normal os functions , we need spark for that,"
    }
   },
   "outputs": [
    {
     "output_type": "display_data",
     "data": {
      "text/html": [
       "<style scoped>\n",
       "  .table-result-container {\n",
       "    max-height: 300px;\n",
       "    overflow: auto;\n",
       "  }\n",
       "  table, th, td {\n",
       "    border: 1px solid black;\n",
       "    border-collapse: collapse;\n",
       "  }\n",
       "  th, td {\n",
       "    padding: 5px;\n",
       "  }\n",
       "  th {\n",
       "    text-align: left;\n",
       "  }\n",
       "</style><div class='table-result-container'><table class='table-result'><thead style='background-color: white'><tr><th>path</th><th>name</th><th>size</th><th>modificationTime</th></tr></thead><tbody><tr><td>dbfs:/FileStore/tables/Iris.csv</td><td>Iris.csv</td><td>5107</td><td>1704862664000</td></tr></tbody></table></div>"
      ]
     },
     "metadata": {
      "application/vnd.databricks.v1+output": {
       "addedWidgets": {},
       "aggData": [],
       "aggError": "",
       "aggOverflow": false,
       "aggSchema": [],
       "aggSeriesLimitReached": false,
       "aggType": "",
       "arguments": {},
       "columnCustomDisplayInfos": {},
       "data": [
        [
         "dbfs:/FileStore/tables/Iris.csv",
         "Iris.csv",
         5107,
         1704862664000
        ]
       ],
       "datasetInfos": [],
       "dbfsResultPath": null,
       "isJsonSchema": true,
       "metadata": {
        "isDbfsCommandResult": false
       },
       "overflow": false,
       "plotOptions": {
        "customPlotOptions": {},
        "displayType": "table",
        "pivotAggregation": null,
        "pivotColumns": null,
        "xColumns": null,
        "yColumns": null
       },
       "removedWidgets": [],
       "schema": [
        {
         "metadata": "{}",
         "name": "path",
         "type": "\"string\""
        },
        {
         "metadata": "{}",
         "name": "name",
         "type": "\"string\""
        },
        {
         "metadata": "{}",
         "name": "size",
         "type": "\"long\""
        },
        {
         "metadata": "{}",
         "name": "modificationTime",
         "type": "\"long\""
        }
       ],
       "type": "table"
      }
     },
     "output_type": "display_data"
    }
   ],
   "source": [
    "%fs\n",
    "ls /FileStore/tables/Iris.csv\n"
   ]
  },
  {
   "cell_type": "code",
   "execution_count": 0,
   "metadata": {
    "application/vnd.databricks.v1+cell": {
     "cellMetadata": {
      "byteLimit": 2048000,
      "rowLimit": 10000
     },
     "inputWidgets": {},
     "nuid": "32122e45-2e66-4100-a77b-7f281e431068",
     "showTitle": false,
     "title": ""
    }
   },
   "outputs": [],
   "source": [
    "# spark is imp to work with lots of CSV files\n",
    "# in csv our 1st line is called header, which is the columns\n",
    "df = spark.read.format('csv').option('inferSchema','true').option('header','true').load('/FileStore/tables/Iris.csv')"
   ]
  },
  {
   "cell_type": "code",
   "execution_count": 0,
   "metadata": {
    "application/vnd.databricks.v1+cell": {
     "cellMetadata": {
      "byteLimit": 2048000,
      "rowLimit": 10000
     },
     "inputWidgets": {},
     "nuid": "005fe5ab-8a09-4165-a3f7-5d91ecd431d9",
     "showTitle": false,
     "title": ""
    }
   },
   "outputs": [
    {
     "output_type": "display_data",
     "data": {
      "text/html": [
       "<style scoped>\n",
       "  .table-result-container {\n",
       "    max-height: 300px;\n",
       "    overflow: auto;\n",
       "  }\n",
       "  table, th, td {\n",
       "    border: 1px solid black;\n",
       "    border-collapse: collapse;\n",
       "  }\n",
       "  th, td {\n",
       "    padding: 5px;\n",
       "  }\n",
       "  th {\n",
       "    text-align: left;\n",
       "  }\n",
       "</style><div class='table-result-container'><table class='table-result'><thead style='background-color: white'><tr><th>Id</th><th>SepalLengthCm</th><th>SepalWidthCm</th><th>PetalLengthCm</th><th>PetalWidthCm</th><th>Species</th></tr></thead><tbody><tr><td>1</td><td>5.1</td><td>3.5</td><td>1.4</td><td>0.2</td><td>Iris-setosa</td></tr><tr><td>2</td><td>4.9</td><td>3.0</td><td>1.4</td><td>0.2</td><td>Iris-setosa</td></tr><tr><td>3</td><td>4.7</td><td>3.2</td><td>1.3</td><td>0.2</td><td>Iris-setosa</td></tr><tr><td>4</td><td>4.6</td><td>3.1</td><td>1.5</td><td>0.2</td><td>Iris-setosa</td></tr><tr><td>5</td><td>5.0</td><td>3.6</td><td>1.4</td><td>0.2</td><td>Iris-setosa</td></tr><tr><td>6</td><td>5.4</td><td>3.9</td><td>1.7</td><td>0.4</td><td>Iris-setosa</td></tr><tr><td>7</td><td>4.6</td><td>3.4</td><td>1.4</td><td>0.3</td><td>Iris-setosa</td></tr><tr><td>8</td><td>5.0</td><td>3.4</td><td>1.5</td><td>0.2</td><td>Iris-setosa</td></tr><tr><td>9</td><td>4.4</td><td>2.9</td><td>1.4</td><td>0.2</td><td>Iris-setosa</td></tr><tr><td>10</td><td>4.9</td><td>3.1</td><td>1.5</td><td>0.1</td><td>Iris-setosa</td></tr><tr><td>11</td><td>5.4</td><td>3.7</td><td>1.5</td><td>0.2</td><td>Iris-setosa</td></tr><tr><td>12</td><td>4.8</td><td>3.4</td><td>1.6</td><td>0.2</td><td>Iris-setosa</td></tr><tr><td>13</td><td>4.8</td><td>3.0</td><td>1.4</td><td>0.1</td><td>Iris-setosa</td></tr><tr><td>14</td><td>4.3</td><td>3.0</td><td>1.1</td><td>0.1</td><td>Iris-setosa</td></tr><tr><td>15</td><td>5.8</td><td>4.0</td><td>1.2</td><td>0.2</td><td>Iris-setosa</td></tr><tr><td>16</td><td>5.7</td><td>4.4</td><td>1.5</td><td>0.4</td><td>Iris-setosa</td></tr><tr><td>17</td><td>5.4</td><td>3.9</td><td>1.3</td><td>0.4</td><td>Iris-setosa</td></tr><tr><td>18</td><td>5.1</td><td>3.5</td><td>1.4</td><td>0.3</td><td>Iris-setosa</td></tr><tr><td>19</td><td>5.7</td><td>3.8</td><td>1.7</td><td>0.3</td><td>Iris-setosa</td></tr><tr><td>20</td><td>5.1</td><td>3.8</td><td>1.5</td><td>0.3</td><td>Iris-setosa</td></tr><tr><td>21</td><td>5.4</td><td>3.4</td><td>1.7</td><td>0.2</td><td>Iris-setosa</td></tr><tr><td>22</td><td>5.1</td><td>3.7</td><td>1.5</td><td>0.4</td><td>Iris-setosa</td></tr><tr><td>23</td><td>4.6</td><td>3.6</td><td>1.0</td><td>0.2</td><td>Iris-setosa</td></tr><tr><td>24</td><td>5.1</td><td>3.3</td><td>1.7</td><td>0.5</td><td>Iris-setosa</td></tr><tr><td>25</td><td>4.8</td><td>3.4</td><td>1.9</td><td>0.2</td><td>Iris-setosa</td></tr><tr><td>26</td><td>5.0</td><td>3.0</td><td>1.6</td><td>0.2</td><td>Iris-setosa</td></tr><tr><td>27</td><td>5.0</td><td>3.4</td><td>1.6</td><td>0.4</td><td>Iris-setosa</td></tr><tr><td>28</td><td>5.2</td><td>3.5</td><td>1.5</td><td>0.2</td><td>Iris-setosa</td></tr><tr><td>29</td><td>5.2</td><td>3.4</td><td>1.4</td><td>0.2</td><td>Iris-setosa</td></tr><tr><td>30</td><td>4.7</td><td>3.2</td><td>1.6</td><td>0.2</td><td>Iris-setosa</td></tr><tr><td>31</td><td>4.8</td><td>3.1</td><td>1.6</td><td>0.2</td><td>Iris-setosa</td></tr><tr><td>32</td><td>5.4</td><td>3.4</td><td>1.5</td><td>0.4</td><td>Iris-setosa</td></tr><tr><td>33</td><td>5.2</td><td>4.1</td><td>1.5</td><td>0.1</td><td>Iris-setosa</td></tr><tr><td>34</td><td>5.5</td><td>4.2</td><td>1.4</td><td>0.2</td><td>Iris-setosa</td></tr><tr><td>35</td><td>4.9</td><td>3.1</td><td>1.5</td><td>0.1</td><td>Iris-setosa</td></tr><tr><td>36</td><td>5.0</td><td>3.2</td><td>1.2</td><td>0.2</td><td>Iris-setosa</td></tr><tr><td>37</td><td>5.5</td><td>3.5</td><td>1.3</td><td>0.2</td><td>Iris-setosa</td></tr><tr><td>38</td><td>4.9</td><td>3.1</td><td>1.5</td><td>0.1</td><td>Iris-setosa</td></tr><tr><td>39</td><td>4.4</td><td>3.0</td><td>1.3</td><td>0.2</td><td>Iris-setosa</td></tr><tr><td>40</td><td>5.1</td><td>3.4</td><td>1.5</td><td>0.2</td><td>Iris-setosa</td></tr><tr><td>41</td><td>5.0</td><td>3.5</td><td>1.3</td><td>0.3</td><td>Iris-setosa</td></tr><tr><td>42</td><td>4.5</td><td>2.3</td><td>1.3</td><td>0.3</td><td>Iris-setosa</td></tr><tr><td>43</td><td>4.4</td><td>3.2</td><td>1.3</td><td>0.2</td><td>Iris-setosa</td></tr><tr><td>44</td><td>5.0</td><td>3.5</td><td>1.6</td><td>0.6</td><td>Iris-setosa</td></tr><tr><td>45</td><td>5.1</td><td>3.8</td><td>1.9</td><td>0.4</td><td>Iris-setosa</td></tr><tr><td>46</td><td>4.8</td><td>3.0</td><td>1.4</td><td>0.3</td><td>Iris-setosa</td></tr><tr><td>47</td><td>5.1</td><td>3.8</td><td>1.6</td><td>0.2</td><td>Iris-setosa</td></tr><tr><td>48</td><td>4.6</td><td>3.2</td><td>1.4</td><td>0.2</td><td>Iris-setosa</td></tr><tr><td>49</td><td>5.3</td><td>3.7</td><td>1.5</td><td>0.2</td><td>Iris-setosa</td></tr><tr><td>50</td><td>5.0</td><td>3.3</td><td>1.4</td><td>0.2</td><td>Iris-setosa</td></tr><tr><td>51</td><td>7.0</td><td>3.2</td><td>4.7</td><td>1.4</td><td>Iris-versicolor</td></tr><tr><td>52</td><td>6.4</td><td>3.2</td><td>4.5</td><td>1.5</td><td>Iris-versicolor</td></tr><tr><td>53</td><td>6.9</td><td>3.1</td><td>4.9</td><td>1.5</td><td>Iris-versicolor</td></tr><tr><td>54</td><td>5.5</td><td>2.3</td><td>4.0</td><td>1.3</td><td>Iris-versicolor</td></tr><tr><td>55</td><td>6.5</td><td>2.8</td><td>4.6</td><td>1.5</td><td>Iris-versicolor</td></tr><tr><td>56</td><td>5.7</td><td>2.8</td><td>4.5</td><td>1.3</td><td>Iris-versicolor</td></tr><tr><td>57</td><td>6.3</td><td>3.3</td><td>4.7</td><td>1.6</td><td>Iris-versicolor</td></tr><tr><td>58</td><td>4.9</td><td>2.4</td><td>3.3</td><td>1.0</td><td>Iris-versicolor</td></tr><tr><td>59</td><td>6.6</td><td>2.9</td><td>4.6</td><td>1.3</td><td>Iris-versicolor</td></tr><tr><td>60</td><td>5.2</td><td>2.7</td><td>3.9</td><td>1.4</td><td>Iris-versicolor</td></tr><tr><td>61</td><td>5.0</td><td>2.0</td><td>3.5</td><td>1.0</td><td>Iris-versicolor</td></tr><tr><td>62</td><td>5.9</td><td>3.0</td><td>4.2</td><td>1.5</td><td>Iris-versicolor</td></tr><tr><td>63</td><td>6.0</td><td>2.2</td><td>4.0</td><td>1.0</td><td>Iris-versicolor</td></tr><tr><td>64</td><td>6.1</td><td>2.9</td><td>4.7</td><td>1.4</td><td>Iris-versicolor</td></tr><tr><td>65</td><td>5.6</td><td>2.9</td><td>3.6</td><td>1.3</td><td>Iris-versicolor</td></tr><tr><td>66</td><td>6.7</td><td>3.1</td><td>4.4</td><td>1.4</td><td>Iris-versicolor</td></tr><tr><td>67</td><td>5.6</td><td>3.0</td><td>4.5</td><td>1.5</td><td>Iris-versicolor</td></tr><tr><td>68</td><td>5.8</td><td>2.7</td><td>4.1</td><td>1.0</td><td>Iris-versicolor</td></tr><tr><td>69</td><td>6.2</td><td>2.2</td><td>4.5</td><td>1.5</td><td>Iris-versicolor</td></tr><tr><td>70</td><td>5.6</td><td>2.5</td><td>3.9</td><td>1.1</td><td>Iris-versicolor</td></tr><tr><td>71</td><td>5.9</td><td>3.2</td><td>4.8</td><td>1.8</td><td>Iris-versicolor</td></tr><tr><td>72</td><td>6.1</td><td>2.8</td><td>4.0</td><td>1.3</td><td>Iris-versicolor</td></tr><tr><td>73</td><td>6.3</td><td>2.5</td><td>4.9</td><td>1.5</td><td>Iris-versicolor</td></tr><tr><td>74</td><td>6.1</td><td>2.8</td><td>4.7</td><td>1.2</td><td>Iris-versicolor</td></tr><tr><td>75</td><td>6.4</td><td>2.9</td><td>4.3</td><td>1.3</td><td>Iris-versicolor</td></tr><tr><td>76</td><td>6.6</td><td>3.0</td><td>4.4</td><td>1.4</td><td>Iris-versicolor</td></tr><tr><td>77</td><td>6.8</td><td>2.8</td><td>4.8</td><td>1.4</td><td>Iris-versicolor</td></tr><tr><td>78</td><td>6.7</td><td>3.0</td><td>5.0</td><td>1.7</td><td>Iris-versicolor</td></tr><tr><td>79</td><td>6.0</td><td>2.9</td><td>4.5</td><td>1.5</td><td>Iris-versicolor</td></tr><tr><td>80</td><td>5.7</td><td>2.6</td><td>3.5</td><td>1.0</td><td>Iris-versicolor</td></tr><tr><td>81</td><td>5.5</td><td>2.4</td><td>3.8</td><td>1.1</td><td>Iris-versicolor</td></tr><tr><td>82</td><td>5.5</td><td>2.4</td><td>3.7</td><td>1.0</td><td>Iris-versicolor</td></tr><tr><td>83</td><td>5.8</td><td>2.7</td><td>3.9</td><td>1.2</td><td>Iris-versicolor</td></tr><tr><td>84</td><td>6.0</td><td>2.7</td><td>5.1</td><td>1.6</td><td>Iris-versicolor</td></tr><tr><td>85</td><td>5.4</td><td>3.0</td><td>4.5</td><td>1.5</td><td>Iris-versicolor</td></tr><tr><td>86</td><td>6.0</td><td>3.4</td><td>4.5</td><td>1.6</td><td>Iris-versicolor</td></tr><tr><td>87</td><td>6.7</td><td>3.1</td><td>4.7</td><td>1.5</td><td>Iris-versicolor</td></tr><tr><td>88</td><td>6.3</td><td>2.3</td><td>4.4</td><td>1.3</td><td>Iris-versicolor</td></tr><tr><td>89</td><td>5.6</td><td>3.0</td><td>4.1</td><td>1.3</td><td>Iris-versicolor</td></tr><tr><td>90</td><td>5.5</td><td>2.5</td><td>4.0</td><td>1.3</td><td>Iris-versicolor</td></tr><tr><td>91</td><td>5.5</td><td>2.6</td><td>4.4</td><td>1.2</td><td>Iris-versicolor</td></tr><tr><td>92</td><td>6.1</td><td>3.0</td><td>4.6</td><td>1.4</td><td>Iris-versicolor</td></tr><tr><td>93</td><td>5.8</td><td>2.6</td><td>4.0</td><td>1.2</td><td>Iris-versicolor</td></tr><tr><td>94</td><td>5.0</td><td>2.3</td><td>3.3</td><td>1.0</td><td>Iris-versicolor</td></tr><tr><td>95</td><td>5.6</td><td>2.7</td><td>4.2</td><td>1.3</td><td>Iris-versicolor</td></tr><tr><td>96</td><td>5.7</td><td>3.0</td><td>4.2</td><td>1.2</td><td>Iris-versicolor</td></tr><tr><td>97</td><td>5.7</td><td>2.9</td><td>4.2</td><td>1.3</td><td>Iris-versicolor</td></tr><tr><td>98</td><td>6.2</td><td>2.9</td><td>4.3</td><td>1.3</td><td>Iris-versicolor</td></tr><tr><td>99</td><td>5.1</td><td>2.5</td><td>3.0</td><td>1.1</td><td>Iris-versicolor</td></tr><tr><td>100</td><td>5.7</td><td>2.8</td><td>4.1</td><td>1.3</td><td>Iris-versicolor</td></tr><tr><td>101</td><td>6.3</td><td>3.3</td><td>6.0</td><td>2.5</td><td>Iris-virginica</td></tr><tr><td>102</td><td>5.8</td><td>2.7</td><td>5.1</td><td>1.9</td><td>Iris-virginica</td></tr><tr><td>103</td><td>7.1</td><td>3.0</td><td>5.9</td><td>2.1</td><td>Iris-virginica</td></tr><tr><td>104</td><td>6.3</td><td>2.9</td><td>5.6</td><td>1.8</td><td>Iris-virginica</td></tr><tr><td>105</td><td>6.5</td><td>3.0</td><td>5.8</td><td>2.2</td><td>Iris-virginica</td></tr><tr><td>106</td><td>7.6</td><td>3.0</td><td>6.6</td><td>2.1</td><td>Iris-virginica</td></tr><tr><td>107</td><td>4.9</td><td>2.5</td><td>4.5</td><td>1.7</td><td>Iris-virginica</td></tr><tr><td>108</td><td>7.3</td><td>2.9</td><td>6.3</td><td>1.8</td><td>Iris-virginica</td></tr><tr><td>109</td><td>6.7</td><td>2.5</td><td>5.8</td><td>1.8</td><td>Iris-virginica</td></tr><tr><td>110</td><td>7.2</td><td>3.6</td><td>6.1</td><td>2.5</td><td>Iris-virginica</td></tr><tr><td>111</td><td>6.5</td><td>3.2</td><td>5.1</td><td>2.0</td><td>Iris-virginica</td></tr><tr><td>112</td><td>6.4</td><td>2.7</td><td>5.3</td><td>1.9</td><td>Iris-virginica</td></tr><tr><td>113</td><td>6.8</td><td>3.0</td><td>5.5</td><td>2.1</td><td>Iris-virginica</td></tr><tr><td>114</td><td>5.7</td><td>2.5</td><td>5.0</td><td>2.0</td><td>Iris-virginica</td></tr><tr><td>115</td><td>5.8</td><td>2.8</td><td>5.1</td><td>2.4</td><td>Iris-virginica</td></tr><tr><td>116</td><td>6.4</td><td>3.2</td><td>5.3</td><td>2.3</td><td>Iris-virginica</td></tr><tr><td>117</td><td>6.5</td><td>3.0</td><td>5.5</td><td>1.8</td><td>Iris-virginica</td></tr><tr><td>118</td><td>7.7</td><td>3.8</td><td>6.7</td><td>2.2</td><td>Iris-virginica</td></tr><tr><td>119</td><td>7.7</td><td>2.6</td><td>6.9</td><td>2.3</td><td>Iris-virginica</td></tr><tr><td>120</td><td>6.0</td><td>2.2</td><td>5.0</td><td>1.5</td><td>Iris-virginica</td></tr><tr><td>121</td><td>6.9</td><td>3.2</td><td>5.7</td><td>2.3</td><td>Iris-virginica</td></tr><tr><td>122</td><td>5.6</td><td>2.8</td><td>4.9</td><td>2.0</td><td>Iris-virginica</td></tr><tr><td>123</td><td>7.7</td><td>2.8</td><td>6.7</td><td>2.0</td><td>Iris-virginica</td></tr><tr><td>124</td><td>6.3</td><td>2.7</td><td>4.9</td><td>1.8</td><td>Iris-virginica</td></tr><tr><td>125</td><td>6.7</td><td>3.3</td><td>5.7</td><td>2.1</td><td>Iris-virginica</td></tr><tr><td>126</td><td>7.2</td><td>3.2</td><td>6.0</td><td>1.8</td><td>Iris-virginica</td></tr><tr><td>127</td><td>6.2</td><td>2.8</td><td>4.8</td><td>1.8</td><td>Iris-virginica</td></tr><tr><td>128</td><td>6.1</td><td>3.0</td><td>4.9</td><td>1.8</td><td>Iris-virginica</td></tr><tr><td>129</td><td>6.4</td><td>2.8</td><td>5.6</td><td>2.1</td><td>Iris-virginica</td></tr><tr><td>130</td><td>7.2</td><td>3.0</td><td>5.8</td><td>1.6</td><td>Iris-virginica</td></tr><tr><td>131</td><td>7.4</td><td>2.8</td><td>6.1</td><td>1.9</td><td>Iris-virginica</td></tr><tr><td>132</td><td>7.9</td><td>3.8</td><td>6.4</td><td>2.0</td><td>Iris-virginica</td></tr><tr><td>133</td><td>6.4</td><td>2.8</td><td>5.6</td><td>2.2</td><td>Iris-virginica</td></tr><tr><td>134</td><td>6.3</td><td>2.8</td><td>5.1</td><td>1.5</td><td>Iris-virginica</td></tr><tr><td>135</td><td>6.1</td><td>2.6</td><td>5.6</td><td>1.4</td><td>Iris-virginica</td></tr><tr><td>136</td><td>7.7</td><td>3.0</td><td>6.1</td><td>2.3</td><td>Iris-virginica</td></tr><tr><td>137</td><td>6.3</td><td>3.4</td><td>5.6</td><td>2.4</td><td>Iris-virginica</td></tr><tr><td>138</td><td>6.4</td><td>3.1</td><td>5.5</td><td>1.8</td><td>Iris-virginica</td></tr><tr><td>139</td><td>6.0</td><td>3.0</td><td>4.8</td><td>1.8</td><td>Iris-virginica</td></tr><tr><td>140</td><td>6.9</td><td>3.1</td><td>5.4</td><td>2.1</td><td>Iris-virginica</td></tr><tr><td>141</td><td>6.7</td><td>3.1</td><td>5.6</td><td>2.4</td><td>Iris-virginica</td></tr><tr><td>142</td><td>6.9</td><td>3.1</td><td>5.1</td><td>2.3</td><td>Iris-virginica</td></tr><tr><td>143</td><td>5.8</td><td>2.7</td><td>5.1</td><td>1.9</td><td>Iris-virginica</td></tr><tr><td>144</td><td>6.8</td><td>3.2</td><td>5.9</td><td>2.3</td><td>Iris-virginica</td></tr><tr><td>145</td><td>6.7</td><td>3.3</td><td>5.7</td><td>2.5</td><td>Iris-virginica</td></tr><tr><td>146</td><td>6.7</td><td>3.0</td><td>5.2</td><td>2.3</td><td>Iris-virginica</td></tr><tr><td>147</td><td>6.3</td><td>2.5</td><td>5.0</td><td>1.9</td><td>Iris-virginica</td></tr><tr><td>148</td><td>6.5</td><td>3.0</td><td>5.2</td><td>2.0</td><td>Iris-virginica</td></tr><tr><td>149</td><td>6.2</td><td>3.4</td><td>5.4</td><td>2.3</td><td>Iris-virginica</td></tr><tr><td>150</td><td>5.9</td><td>3.0</td><td>5.1</td><td>1.8</td><td>Iris-virginica</td></tr></tbody></table></div>"
      ]
     },
     "metadata": {
      "application/vnd.databricks.v1+output": {
       "addedWidgets": {},
       "aggData": [],
       "aggError": "",
       "aggOverflow": false,
       "aggSchema": [],
       "aggSeriesLimitReached": false,
       "aggType": "",
       "arguments": {},
       "columnCustomDisplayInfos": {},
       "data": [
        [
         1,
         5.1,
         3.5,
         1.4,
         0.2,
         "Iris-setosa"
        ],
        [
         2,
         4.9,
         3.0,
         1.4,
         0.2,
         "Iris-setosa"
        ],
        [
         3,
         4.7,
         3.2,
         1.3,
         0.2,
         "Iris-setosa"
        ],
        [
         4,
         4.6,
         3.1,
         1.5,
         0.2,
         "Iris-setosa"
        ],
        [
         5,
         5.0,
         3.6,
         1.4,
         0.2,
         "Iris-setosa"
        ],
        [
         6,
         5.4,
         3.9,
         1.7,
         0.4,
         "Iris-setosa"
        ],
        [
         7,
         4.6,
         3.4,
         1.4,
         0.3,
         "Iris-setosa"
        ],
        [
         8,
         5.0,
         3.4,
         1.5,
         0.2,
         "Iris-setosa"
        ],
        [
         9,
         4.4,
         2.9,
         1.4,
         0.2,
         "Iris-setosa"
        ],
        [
         10,
         4.9,
         3.1,
         1.5,
         0.1,
         "Iris-setosa"
        ],
        [
         11,
         5.4,
         3.7,
         1.5,
         0.2,
         "Iris-setosa"
        ],
        [
         12,
         4.8,
         3.4,
         1.6,
         0.2,
         "Iris-setosa"
        ],
        [
         13,
         4.8,
         3.0,
         1.4,
         0.1,
         "Iris-setosa"
        ],
        [
         14,
         4.3,
         3.0,
         1.1,
         0.1,
         "Iris-setosa"
        ],
        [
         15,
         5.8,
         4.0,
         1.2,
         0.2,
         "Iris-setosa"
        ],
        [
         16,
         5.7,
         4.4,
         1.5,
         0.4,
         "Iris-setosa"
        ],
        [
         17,
         5.4,
         3.9,
         1.3,
         0.4,
         "Iris-setosa"
        ],
        [
         18,
         5.1,
         3.5,
         1.4,
         0.3,
         "Iris-setosa"
        ],
        [
         19,
         5.7,
         3.8,
         1.7,
         0.3,
         "Iris-setosa"
        ],
        [
         20,
         5.1,
         3.8,
         1.5,
         0.3,
         "Iris-setosa"
        ],
        [
         21,
         5.4,
         3.4,
         1.7,
         0.2,
         "Iris-setosa"
        ],
        [
         22,
         5.1,
         3.7,
         1.5,
         0.4,
         "Iris-setosa"
        ],
        [
         23,
         4.6,
         3.6,
         1.0,
         0.2,
         "Iris-setosa"
        ],
        [
         24,
         5.1,
         3.3,
         1.7,
         0.5,
         "Iris-setosa"
        ],
        [
         25,
         4.8,
         3.4,
         1.9,
         0.2,
         "Iris-setosa"
        ],
        [
         26,
         5.0,
         3.0,
         1.6,
         0.2,
         "Iris-setosa"
        ],
        [
         27,
         5.0,
         3.4,
         1.6,
         0.4,
         "Iris-setosa"
        ],
        [
         28,
         5.2,
         3.5,
         1.5,
         0.2,
         "Iris-setosa"
        ],
        [
         29,
         5.2,
         3.4,
         1.4,
         0.2,
         "Iris-setosa"
        ],
        [
         30,
         4.7,
         3.2,
         1.6,
         0.2,
         "Iris-setosa"
        ],
        [
         31,
         4.8,
         3.1,
         1.6,
         0.2,
         "Iris-setosa"
        ],
        [
         32,
         5.4,
         3.4,
         1.5,
         0.4,
         "Iris-setosa"
        ],
        [
         33,
         5.2,
         4.1,
         1.5,
         0.1,
         "Iris-setosa"
        ],
        [
         34,
         5.5,
         4.2,
         1.4,
         0.2,
         "Iris-setosa"
        ],
        [
         35,
         4.9,
         3.1,
         1.5,
         0.1,
         "Iris-setosa"
        ],
        [
         36,
         5.0,
         3.2,
         1.2,
         0.2,
         "Iris-setosa"
        ],
        [
         37,
         5.5,
         3.5,
         1.3,
         0.2,
         "Iris-setosa"
        ],
        [
         38,
         4.9,
         3.1,
         1.5,
         0.1,
         "Iris-setosa"
        ],
        [
         39,
         4.4,
         3.0,
         1.3,
         0.2,
         "Iris-setosa"
        ],
        [
         40,
         5.1,
         3.4,
         1.5,
         0.2,
         "Iris-setosa"
        ],
        [
         41,
         5.0,
         3.5,
         1.3,
         0.3,
         "Iris-setosa"
        ],
        [
         42,
         4.5,
         2.3,
         1.3,
         0.3,
         "Iris-setosa"
        ],
        [
         43,
         4.4,
         3.2,
         1.3,
         0.2,
         "Iris-setosa"
        ],
        [
         44,
         5.0,
         3.5,
         1.6,
         0.6,
         "Iris-setosa"
        ],
        [
         45,
         5.1,
         3.8,
         1.9,
         0.4,
         "Iris-setosa"
        ],
        [
         46,
         4.8,
         3.0,
         1.4,
         0.3,
         "Iris-setosa"
        ],
        [
         47,
         5.1,
         3.8,
         1.6,
         0.2,
         "Iris-setosa"
        ],
        [
         48,
         4.6,
         3.2,
         1.4,
         0.2,
         "Iris-setosa"
        ],
        [
         49,
         5.3,
         3.7,
         1.5,
         0.2,
         "Iris-setosa"
        ],
        [
         50,
         5.0,
         3.3,
         1.4,
         0.2,
         "Iris-setosa"
        ],
        [
         51,
         7.0,
         3.2,
         4.7,
         1.4,
         "Iris-versicolor"
        ],
        [
         52,
         6.4,
         3.2,
         4.5,
         1.5,
         "Iris-versicolor"
        ],
        [
         53,
         6.9,
         3.1,
         4.9,
         1.5,
         "Iris-versicolor"
        ],
        [
         54,
         5.5,
         2.3,
         4.0,
         1.3,
         "Iris-versicolor"
        ],
        [
         55,
         6.5,
         2.8,
         4.6,
         1.5,
         "Iris-versicolor"
        ],
        [
         56,
         5.7,
         2.8,
         4.5,
         1.3,
         "Iris-versicolor"
        ],
        [
         57,
         6.3,
         3.3,
         4.7,
         1.6,
         "Iris-versicolor"
        ],
        [
         58,
         4.9,
         2.4,
         3.3,
         1.0,
         "Iris-versicolor"
        ],
        [
         59,
         6.6,
         2.9,
         4.6,
         1.3,
         "Iris-versicolor"
        ],
        [
         60,
         5.2,
         2.7,
         3.9,
         1.4,
         "Iris-versicolor"
        ],
        [
         61,
         5.0,
         2.0,
         3.5,
         1.0,
         "Iris-versicolor"
        ],
        [
         62,
         5.9,
         3.0,
         4.2,
         1.5,
         "Iris-versicolor"
        ],
        [
         63,
         6.0,
         2.2,
         4.0,
         1.0,
         "Iris-versicolor"
        ],
        [
         64,
         6.1,
         2.9,
         4.7,
         1.4,
         "Iris-versicolor"
        ],
        [
         65,
         5.6,
         2.9,
         3.6,
         1.3,
         "Iris-versicolor"
        ],
        [
         66,
         6.7,
         3.1,
         4.4,
         1.4,
         "Iris-versicolor"
        ],
        [
         67,
         5.6,
         3.0,
         4.5,
         1.5,
         "Iris-versicolor"
        ],
        [
         68,
         5.8,
         2.7,
         4.1,
         1.0,
         "Iris-versicolor"
        ],
        [
         69,
         6.2,
         2.2,
         4.5,
         1.5,
         "Iris-versicolor"
        ],
        [
         70,
         5.6,
         2.5,
         3.9,
         1.1,
         "Iris-versicolor"
        ],
        [
         71,
         5.9,
         3.2,
         4.8,
         1.8,
         "Iris-versicolor"
        ],
        [
         72,
         6.1,
         2.8,
         4.0,
         1.3,
         "Iris-versicolor"
        ],
        [
         73,
         6.3,
         2.5,
         4.9,
         1.5,
         "Iris-versicolor"
        ],
        [
         74,
         6.1,
         2.8,
         4.7,
         1.2,
         "Iris-versicolor"
        ],
        [
         75,
         6.4,
         2.9,
         4.3,
         1.3,
         "Iris-versicolor"
        ],
        [
         76,
         6.6,
         3.0,
         4.4,
         1.4,
         "Iris-versicolor"
        ],
        [
         77,
         6.8,
         2.8,
         4.8,
         1.4,
         "Iris-versicolor"
        ],
        [
         78,
         6.7,
         3.0,
         5.0,
         1.7,
         "Iris-versicolor"
        ],
        [
         79,
         6.0,
         2.9,
         4.5,
         1.5,
         "Iris-versicolor"
        ],
        [
         80,
         5.7,
         2.6,
         3.5,
         1.0,
         "Iris-versicolor"
        ],
        [
         81,
         5.5,
         2.4,
         3.8,
         1.1,
         "Iris-versicolor"
        ],
        [
         82,
         5.5,
         2.4,
         3.7,
         1.0,
         "Iris-versicolor"
        ],
        [
         83,
         5.8,
         2.7,
         3.9,
         1.2,
         "Iris-versicolor"
        ],
        [
         84,
         6.0,
         2.7,
         5.1,
         1.6,
         "Iris-versicolor"
        ],
        [
         85,
         5.4,
         3.0,
         4.5,
         1.5,
         "Iris-versicolor"
        ],
        [
         86,
         6.0,
         3.4,
         4.5,
         1.6,
         "Iris-versicolor"
        ],
        [
         87,
         6.7,
         3.1,
         4.7,
         1.5,
         "Iris-versicolor"
        ],
        [
         88,
         6.3,
         2.3,
         4.4,
         1.3,
         "Iris-versicolor"
        ],
        [
         89,
         5.6,
         3.0,
         4.1,
         1.3,
         "Iris-versicolor"
        ],
        [
         90,
         5.5,
         2.5,
         4.0,
         1.3,
         "Iris-versicolor"
        ],
        [
         91,
         5.5,
         2.6,
         4.4,
         1.2,
         "Iris-versicolor"
        ],
        [
         92,
         6.1,
         3.0,
         4.6,
         1.4,
         "Iris-versicolor"
        ],
        [
         93,
         5.8,
         2.6,
         4.0,
         1.2,
         "Iris-versicolor"
        ],
        [
         94,
         5.0,
         2.3,
         3.3,
         1.0,
         "Iris-versicolor"
        ],
        [
         95,
         5.6,
         2.7,
         4.2,
         1.3,
         "Iris-versicolor"
        ],
        [
         96,
         5.7,
         3.0,
         4.2,
         1.2,
         "Iris-versicolor"
        ],
        [
         97,
         5.7,
         2.9,
         4.2,
         1.3,
         "Iris-versicolor"
        ],
        [
         98,
         6.2,
         2.9,
         4.3,
         1.3,
         "Iris-versicolor"
        ],
        [
         99,
         5.1,
         2.5,
         3.0,
         1.1,
         "Iris-versicolor"
        ],
        [
         100,
         5.7,
         2.8,
         4.1,
         1.3,
         "Iris-versicolor"
        ],
        [
         101,
         6.3,
         3.3,
         6.0,
         2.5,
         "Iris-virginica"
        ],
        [
         102,
         5.8,
         2.7,
         5.1,
         1.9,
         "Iris-virginica"
        ],
        [
         103,
         7.1,
         3.0,
         5.9,
         2.1,
         "Iris-virginica"
        ],
        [
         104,
         6.3,
         2.9,
         5.6,
         1.8,
         "Iris-virginica"
        ],
        [
         105,
         6.5,
         3.0,
         5.8,
         2.2,
         "Iris-virginica"
        ],
        [
         106,
         7.6,
         3.0,
         6.6,
         2.1,
         "Iris-virginica"
        ],
        [
         107,
         4.9,
         2.5,
         4.5,
         1.7,
         "Iris-virginica"
        ],
        [
         108,
         7.3,
         2.9,
         6.3,
         1.8,
         "Iris-virginica"
        ],
        [
         109,
         6.7,
         2.5,
         5.8,
         1.8,
         "Iris-virginica"
        ],
        [
         110,
         7.2,
         3.6,
         6.1,
         2.5,
         "Iris-virginica"
        ],
        [
         111,
         6.5,
         3.2,
         5.1,
         2.0,
         "Iris-virginica"
        ],
        [
         112,
         6.4,
         2.7,
         5.3,
         1.9,
         "Iris-virginica"
        ],
        [
         113,
         6.8,
         3.0,
         5.5,
         2.1,
         "Iris-virginica"
        ],
        [
         114,
         5.7,
         2.5,
         5.0,
         2.0,
         "Iris-virginica"
        ],
        [
         115,
         5.8,
         2.8,
         5.1,
         2.4,
         "Iris-virginica"
        ],
        [
         116,
         6.4,
         3.2,
         5.3,
         2.3,
         "Iris-virginica"
        ],
        [
         117,
         6.5,
         3.0,
         5.5,
         1.8,
         "Iris-virginica"
        ],
        [
         118,
         7.7,
         3.8,
         6.7,
         2.2,
         "Iris-virginica"
        ],
        [
         119,
         7.7,
         2.6,
         6.9,
         2.3,
         "Iris-virginica"
        ],
        [
         120,
         6.0,
         2.2,
         5.0,
         1.5,
         "Iris-virginica"
        ],
        [
         121,
         6.9,
         3.2,
         5.7,
         2.3,
         "Iris-virginica"
        ],
        [
         122,
         5.6,
         2.8,
         4.9,
         2.0,
         "Iris-virginica"
        ],
        [
         123,
         7.7,
         2.8,
         6.7,
         2.0,
         "Iris-virginica"
        ],
        [
         124,
         6.3,
         2.7,
         4.9,
         1.8,
         "Iris-virginica"
        ],
        [
         125,
         6.7,
         3.3,
         5.7,
         2.1,
         "Iris-virginica"
        ],
        [
         126,
         7.2,
         3.2,
         6.0,
         1.8,
         "Iris-virginica"
        ],
        [
         127,
         6.2,
         2.8,
         4.8,
         1.8,
         "Iris-virginica"
        ],
        [
         128,
         6.1,
         3.0,
         4.9,
         1.8,
         "Iris-virginica"
        ],
        [
         129,
         6.4,
         2.8,
         5.6,
         2.1,
         "Iris-virginica"
        ],
        [
         130,
         7.2,
         3.0,
         5.8,
         1.6,
         "Iris-virginica"
        ],
        [
         131,
         7.4,
         2.8,
         6.1,
         1.9,
         "Iris-virginica"
        ],
        [
         132,
         7.9,
         3.8,
         6.4,
         2.0,
         "Iris-virginica"
        ],
        [
         133,
         6.4,
         2.8,
         5.6,
         2.2,
         "Iris-virginica"
        ],
        [
         134,
         6.3,
         2.8,
         5.1,
         1.5,
         "Iris-virginica"
        ],
        [
         135,
         6.1,
         2.6,
         5.6,
         1.4,
         "Iris-virginica"
        ],
        [
         136,
         7.7,
         3.0,
         6.1,
         2.3,
         "Iris-virginica"
        ],
        [
         137,
         6.3,
         3.4,
         5.6,
         2.4,
         "Iris-virginica"
        ],
        [
         138,
         6.4,
         3.1,
         5.5,
         1.8,
         "Iris-virginica"
        ],
        [
         139,
         6.0,
         3.0,
         4.8,
         1.8,
         "Iris-virginica"
        ],
        [
         140,
         6.9,
         3.1,
         5.4,
         2.1,
         "Iris-virginica"
        ],
        [
         141,
         6.7,
         3.1,
         5.6,
         2.4,
         "Iris-virginica"
        ],
        [
         142,
         6.9,
         3.1,
         5.1,
         2.3,
         "Iris-virginica"
        ],
        [
         143,
         5.8,
         2.7,
         5.1,
         1.9,
         "Iris-virginica"
        ],
        [
         144,
         6.8,
         3.2,
         5.9,
         2.3,
         "Iris-virginica"
        ],
        [
         145,
         6.7,
         3.3,
         5.7,
         2.5,
         "Iris-virginica"
        ],
        [
         146,
         6.7,
         3.0,
         5.2,
         2.3,
         "Iris-virginica"
        ],
        [
         147,
         6.3,
         2.5,
         5.0,
         1.9,
         "Iris-virginica"
        ],
        [
         148,
         6.5,
         3.0,
         5.2,
         2.0,
         "Iris-virginica"
        ],
        [
         149,
         6.2,
         3.4,
         5.4,
         2.3,
         "Iris-virginica"
        ],
        [
         150,
         5.9,
         3.0,
         5.1,
         1.8,
         "Iris-virginica"
        ]
       ],
       "datasetInfos": [],
       "dbfsResultPath": null,
       "isJsonSchema": true,
       "metadata": {},
       "overflow": false,
       "plotOptions": {
        "customPlotOptions": {},
        "displayType": "table",
        "pivotAggregation": null,
        "pivotColumns": null,
        "xColumns": null,
        "yColumns": null
       },
       "removedWidgets": [],
       "schema": [
        {
         "metadata": "{}",
         "name": "Id",
         "type": "\"integer\""
        },
        {
         "metadata": "{}",
         "name": "SepalLengthCm",
         "type": "\"double\""
        },
        {
         "metadata": "{}",
         "name": "SepalWidthCm",
         "type": "\"double\""
        },
        {
         "metadata": "{}",
         "name": "PetalLengthCm",
         "type": "\"double\""
        },
        {
         "metadata": "{}",
         "name": "PetalWidthCm",
         "type": "\"double\""
        },
        {
         "metadata": "{}",
         "name": "Species",
         "type": "\"string\""
        }
       ],
       "type": "table"
      }
     },
     "output_type": "display_data"
    }
   ],
   "source": [
    "## the above 2 jobs helps in saving computational power, it will take the same energy. helps in saving cloud costs.\n",
    "## Creating/uploading files sends them to the Hadoop file system and converts it acc to its methodologies\n",
    "## jobs are written in java\n",
    "## data bricks can communication with different cloud systems, can do encryption and decryption and etc.\n",
    "## Data bricks is efficient way to connect with big data without managing stages, java jobs, parallel computing, optimizing,creating structures & etc.\n",
    "display(df)"
   ]
  },
  {
   "cell_type": "code",
   "execution_count": 0,
   "metadata": {
    "application/vnd.databricks.v1+cell": {
     "cellMetadata": {},
     "inputWidgets": {},
     "nuid": "8efc2261-90f4-413a-b9d2-7488988b2f60",
     "showTitle": false,
     "title": ""
    }
   },
   "outputs": [],
   "source": []
  }
 ],
 "metadata": {
  "application/vnd.databricks.v1+notebook": {
   "dashboards": [],
   "language": "python",
   "notebookMetadata": {
    "mostRecentlyExecutedCommandWithImplicitDF": {
     "commandId": 1274709683883760,
     "dataframes": [
      "_sqldf"
     ]
    },
    "pythonIndentUnit": 4
   },
   "notebookName": "LAB_1",
   "widgets": {}
  }
 },
 "nbformat": 4,
 "nbformat_minor": 0
}
