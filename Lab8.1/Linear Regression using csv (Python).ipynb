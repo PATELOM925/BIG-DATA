{
 "cells": [
  {
   "cell_type": "markdown",
   "metadata": {
    "application/vnd.databricks.v1+cell": {
     "cellMetadata": {},
     "inputWidgets": {},
     "nuid": "ba861e4a-88f8-4793-9dfe-b170555379fd",
     "showTitle": false,
     "title": ""
    }
   },
   "source": [
    "# Linear Regression using CSV (PYTHON)"
   ]
  },
  {
   "cell_type": "code",
   "execution_count": 0,
   "metadata": {
    "application/vnd.databricks.v1+cell": {
     "cellMetadata": {
      "byteLimit": 2048000,
      "rowLimit": 10000
     },
     "inputWidgets": {},
     "nuid": "57a39e2c-0695-4791-ae50-45820ded3249",
     "showTitle": false,
     "title": ""
    }
   },
   "outputs": [
    {
     "output_type": "display_data",
     "data": {
      "application/vnd.databricks.v1+bamboolib_hint": "{\"pd.DataFrames\": [], \"version\": \"0.0.1\"}",
      "text/plain": []
     },
     "metadata": {},
     "output_type": "display_data"
    },
    {
     "output_type": "display_data",
     "data": {
      "text/html": [
       "<div>\n",
       "<style scoped>\n",
       "    .dataframe tbody tr th:only-of-type {\n",
       "        vertical-align: middle;\n",
       "    }\n",
       "\n",
       "    .dataframe tbody tr th {\n",
       "        vertical-align: top;\n",
       "    }\n",
       "\n",
       "    .dataframe thead th {\n",
       "        text-align: right;\n",
       "    }\n",
       "</style>\n",
       "<table border=\"1\" class=\"dataframe\">\n",
       "  <thead>\n",
       "    <tr style=\"text-align: right;\">\n",
       "      <th></th>\n",
       "      <th>crim</th>\n",
       "      <th>zn</th>\n",
       "      <th>indus</th>\n",
       "      <th>chas</th>\n",
       "      <th>nox</th>\n",
       "      <th>rm</th>\n",
       "      <th>age</th>\n",
       "      <th>dis</th>\n",
       "      <th>rad</th>\n",
       "      <th>tax</th>\n",
       "      <th>ptratio</th>\n",
       "      <th>b</th>\n",
       "      <th>lstat</th>\n",
       "      <th>medv</th>\n",
       "    </tr>\n",
       "  </thead>\n",
       "  <tbody>\n",
       "    <tr>\n",
       "      <th>0</th>\n",
       "      <td>0.00632</td>\n",
       "      <td>18.0</td>\n",
       "      <td>2.31</td>\n",
       "      <td>0</td>\n",
       "      <td>0.538</td>\n",
       "      <td>6.575</td>\n",
       "      <td>65.2</td>\n",
       "      <td>4.0900</td>\n",
       "      <td>1</td>\n",
       "      <td>296</td>\n",
       "      <td>15.3</td>\n",
       "      <td>396.90</td>\n",
       "      <td>4.98</td>\n",
       "      <td>24.0</td>\n",
       "    </tr>\n",
       "    <tr>\n",
       "      <th>1</th>\n",
       "      <td>0.02731</td>\n",
       "      <td>0.0</td>\n",
       "      <td>7.07</td>\n",
       "      <td>0</td>\n",
       "      <td>0.469</td>\n",
       "      <td>6.421</td>\n",
       "      <td>78.9</td>\n",
       "      <td>4.9671</td>\n",
       "      <td>2</td>\n",
       "      <td>242</td>\n",
       "      <td>17.8</td>\n",
       "      <td>396.90</td>\n",
       "      <td>9.14</td>\n",
       "      <td>21.6</td>\n",
       "    </tr>\n",
       "    <tr>\n",
       "      <th>2</th>\n",
       "      <td>0.02729</td>\n",
       "      <td>0.0</td>\n",
       "      <td>7.07</td>\n",
       "      <td>0</td>\n",
       "      <td>0.469</td>\n",
       "      <td>7.185</td>\n",
       "      <td>61.1</td>\n",
       "      <td>4.9671</td>\n",
       "      <td>2</td>\n",
       "      <td>242</td>\n",
       "      <td>17.8</td>\n",
       "      <td>392.83</td>\n",
       "      <td>4.03</td>\n",
       "      <td>34.7</td>\n",
       "    </tr>\n",
       "    <tr>\n",
       "      <th>3</th>\n",
       "      <td>0.03237</td>\n",
       "      <td>0.0</td>\n",
       "      <td>2.18</td>\n",
       "      <td>0</td>\n",
       "      <td>0.458</td>\n",
       "      <td>6.998</td>\n",
       "      <td>45.8</td>\n",
       "      <td>6.0622</td>\n",
       "      <td>3</td>\n",
       "      <td>222</td>\n",
       "      <td>18.7</td>\n",
       "      <td>394.63</td>\n",
       "      <td>2.94</td>\n",
       "      <td>33.4</td>\n",
       "    </tr>\n",
       "  </tbody>\n",
       "</table>\n",
       "</div>"
      ]
     },
     "metadata": {
      "application/vnd.databricks.v1+output": {
       "addedWidgets": {},
       "arguments": {},
       "data": "<div>\n<style scoped>\n    .dataframe tbody tr th:only-of-type {\n        vertical-align: middle;\n    }\n\n    .dataframe tbody tr th {\n        vertical-align: top;\n    }\n\n    .dataframe thead th {\n        text-align: right;\n    }\n</style>\n<table border=\"1\" class=\"dataframe\">\n  <thead>\n    <tr style=\"text-align: right;\">\n      <th></th>\n      <th>crim</th>\n      <th>zn</th>\n      <th>indus</th>\n      <th>chas</th>\n      <th>nox</th>\n      <th>rm</th>\n      <th>age</th>\n      <th>dis</th>\n      <th>rad</th>\n      <th>tax</th>\n      <th>ptratio</th>\n      <th>b</th>\n      <th>lstat</th>\n      <th>medv</th>\n    </tr>\n  </thead>\n  <tbody>\n    <tr>\n      <th>0</th>\n      <td>0.00632</td>\n      <td>18.0</td>\n      <td>2.31</td>\n      <td>0</td>\n      <td>0.538</td>\n      <td>6.575</td>\n      <td>65.2</td>\n      <td>4.0900</td>\n      <td>1</td>\n      <td>296</td>\n      <td>15.3</td>\n      <td>396.90</td>\n      <td>4.98</td>\n      <td>24.0</td>\n    </tr>\n    <tr>\n      <th>1</th>\n      <td>0.02731</td>\n      <td>0.0</td>\n      <td>7.07</td>\n      <td>0</td>\n      <td>0.469</td>\n      <td>6.421</td>\n      <td>78.9</td>\n      <td>4.9671</td>\n      <td>2</td>\n      <td>242</td>\n      <td>17.8</td>\n      <td>396.90</td>\n      <td>9.14</td>\n      <td>21.6</td>\n    </tr>\n    <tr>\n      <th>2</th>\n      <td>0.02729</td>\n      <td>0.0</td>\n      <td>7.07</td>\n      <td>0</td>\n      <td>0.469</td>\n      <td>7.185</td>\n      <td>61.1</td>\n      <td>4.9671</td>\n      <td>2</td>\n      <td>242</td>\n      <td>17.8</td>\n      <td>392.83</td>\n      <td>4.03</td>\n      <td>34.7</td>\n    </tr>\n    <tr>\n      <th>3</th>\n      <td>0.03237</td>\n      <td>0.0</td>\n      <td>2.18</td>\n      <td>0</td>\n      <td>0.458</td>\n      <td>6.998</td>\n      <td>45.8</td>\n      <td>6.0622</td>\n      <td>3</td>\n      <td>222</td>\n      <td>18.7</td>\n      <td>394.63</td>\n      <td>2.94</td>\n      <td>33.4</td>\n    </tr>\n  </tbody>\n</table>\n</div>",
       "datasetInfos": [],
       "metadata": {},
       "removedWidgets": [],
       "textData": null,
       "type": "htmlSandbox"
      }
     },
     "output_type": "display_data"
    }
   ],
   "source": [
    "import pandas as pd\n",
    "import io\n",
    "csv_string = dbutils.fs.head(\"dbfs:/FileStore/tables/housing.csv\")\n",
    "data = pd.read_csv(io.StringIO(csv_string))\n",
    "#print(data)\n",
    "data.head(4)"
   ]
  },
  {
   "cell_type": "code",
   "execution_count": 0,
   "metadata": {
    "application/vnd.databricks.v1+cell": {
     "cellMetadata": {
      "byteLimit": 2048000,
      "rowLimit": 10000
     },
     "inputWidgets": {},
     "nuid": "1219e0e3-3a6d-482b-bfd4-974cc97af14f",
     "showTitle": false,
     "title": ""
    }
   },
   "outputs": [
    {
     "output_type": "display_data",
     "data": {
      "text/html": [
       "<div>\n",
       "<style scoped>\n",
       "    .dataframe tbody tr th:only-of-type {\n",
       "        vertical-align: middle;\n",
       "    }\n",
       "\n",
       "    .dataframe tbody tr th {\n",
       "        vertical-align: top;\n",
       "    }\n",
       "\n",
       "    .dataframe thead th {\n",
       "        text-align: right;\n",
       "    }\n",
       "</style>\n",
       "<table border=\"1\" class=\"dataframe\">\n",
       "  <thead>\n",
       "    <tr style=\"text-align: right;\">\n",
       "      <th></th>\n",
       "      <th>lstat</th>\n",
       "      <th>medv</th>\n",
       "    </tr>\n",
       "  </thead>\n",
       "  <tbody>\n",
       "    <tr>\n",
       "      <th>0</th>\n",
       "      <td>4.98</td>\n",
       "      <td>24.0</td>\n",
       "    </tr>\n",
       "    <tr>\n",
       "      <th>1</th>\n",
       "      <td>9.14</td>\n",
       "      <td>21.6</td>\n",
       "    </tr>\n",
       "    <tr>\n",
       "      <th>2</th>\n",
       "      <td>4.03</td>\n",
       "      <td>34.7</td>\n",
       "    </tr>\n",
       "    <tr>\n",
       "      <th>3</th>\n",
       "      <td>2.94</td>\n",
       "      <td>33.4</td>\n",
       "    </tr>\n",
       "    <tr>\n",
       "      <th>4</th>\n",
       "      <td>5.33</td>\n",
       "      <td>36.2</td>\n",
       "    </tr>\n",
       "  </tbody>\n",
       "</table>\n",
       "</div>"
      ]
     },
     "metadata": {
      "application/vnd.databricks.v1+output": {
       "addedWidgets": {},
       "arguments": {},
       "data": "<div>\n<style scoped>\n    .dataframe tbody tr th:only-of-type {\n        vertical-align: middle;\n    }\n\n    .dataframe tbody tr th {\n        vertical-align: top;\n    }\n\n    .dataframe thead th {\n        text-align: right;\n    }\n</style>\n<table border=\"1\" class=\"dataframe\">\n  <thead>\n    <tr style=\"text-align: right;\">\n      <th></th>\n      <th>lstat</th>\n      <th>medv</th>\n    </tr>\n  </thead>\n  <tbody>\n    <tr>\n      <th>0</th>\n      <td>4.98</td>\n      <td>24.0</td>\n    </tr>\n    <tr>\n      <th>1</th>\n      <td>9.14</td>\n      <td>21.6</td>\n    </tr>\n    <tr>\n      <th>2</th>\n      <td>4.03</td>\n      <td>34.7</td>\n    </tr>\n    <tr>\n      <th>3</th>\n      <td>2.94</td>\n      <td>33.4</td>\n    </tr>\n    <tr>\n      <th>4</th>\n      <td>5.33</td>\n      <td>36.2</td>\n    </tr>\n  </tbody>\n</table>\n</div>",
       "datasetInfos": [],
       "metadata": {},
       "removedWidgets": [],
       "textData": null,
       "type": "htmlSandbox"
      }
     },
     "output_type": "display_data"
    }
   ],
   "source": [
    "df_1 = data.loc[:,['lstat', 'medv']]\n",
    "df_1.head()\n",
    "#csv_string.head()"
   ]
  },
  {
   "cell_type": "code",
   "execution_count": 0,
   "metadata": {
    "application/vnd.databricks.v1+cell": {
     "cellMetadata": {
      "byteLimit": 2048000,
      "rowLimit": 10000
     },
     "inputWidgets": {},
     "nuid": "d8039f2e-be0a-4251-8731-a83acc59b9cd",
     "showTitle": false,
     "title": ""
    }
   },
   "outputs": [
    {
     "output_type": "display_data",
     "data": {
      "image/png": "[encoded data removed]"
     },
     "metadata": {
      "application/vnd.databricks.v1+output": {
       "addedWidgets": {},
       "arguments": {},
       "data": "data:image/png;base64,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\n",
       "datasetInfos": [],
       "metadata": {},
       "removedWidgets": [],
       "type": "image"
      }
     },
     "output_type": "display_data"
    }
   ],
   "source": [
    "import matplotlib.pyplot as plt\n",
    "df_1.plot(x='lstat', y='medv', style='o')\n",
    "plt.xlabel('LSTAT')\n",
    "plt.ylabel('MEDV')\n",
    "plt.title('STEP-1')\n",
    "plt.show()"
   ]
  },
  {
   "cell_type": "code",
   "execution_count": 0,
   "metadata": {
    "application/vnd.databricks.v1+cell": {
     "cellMetadata": {
      "byteLimit": 2048000,
      "rowLimit": 10000
     },
     "inputWidgets": {},
     "nuid": "835d1e76-433e-4e59-8b88-5be9cdde4f88",
     "showTitle": false,
     "title": ""
    }
   },
   "outputs": [],
   "source": [
    "X = pd.DataFrame(df_1['lstat']) \n",
    "y = pd.DataFrame(df_1['medv'])  "
   ]
  },
  {
   "cell_type": "code",
   "execution_count": 0,
   "metadata": {
    "application/vnd.databricks.v1+cell": {
     "cellMetadata": {
      "byteLimit": 2048000,
      "rowLimit": 10000
     },
     "inputWidgets": {},
     "nuid": "4d11bb81-97df-4716-9d60-e812ce46962b",
     "showTitle": false,
     "title": ""
    }
   },
   "outputs": [],
   "source": [
    "from sklearn.model_selection import train_test_split\n",
    "X_train, X_test, y_train, y_test = train_test_split(X, y, test_size = 0.3, random_state = 1)"
   ]
  },
  {
   "cell_type": "code",
   "execution_count": 0,
   "metadata": {
    "application/vnd.databricks.v1+cell": {
     "cellMetadata": {
      "byteLimit": 2048000,
      "rowLimit": 10000
     },
     "inputWidgets": {},
     "nuid": "8a9e042c-1321-427c-991b-c082baea867e",
     "showTitle": false,
     "title": ""
    }
   },
   "outputs": [
    {
     "output_type": "stream",
     "name": "stdout",
     "output_type": "stream",
     "text": [
      "(353, 1)\n(152, 1)\n(353, 1)\n(152, 1)\n"
     ]
    }
   ],
   "source": [
    "print(X_train.shape)\n",
    "print(X_test.shape)\n",
    "print(y_train.shape)\n",
    "print(y_test.shape)"
   ]
  },
  {
   "cell_type": "code",
   "execution_count": 0,
   "metadata": {
    "application/vnd.databricks.v1+cell": {
     "cellMetadata": {
      "byteLimit": 2048000,
      "rowLimit": 10000
     },
     "inputWidgets": {},
     "nuid": "bcee7db0-989a-4c7d-8f05-ffdd3f05a718",
     "showTitle": false,
     "title": ""
    }
   },
   "outputs": [
    {
     "output_type": "stream",
     "name": "stdout",
     "output_type": "stream",
     "text": [
      "Out[7]: LinearRegression()"
     ]
    }
   ],
   "source": [
    "from sklearn.linear_model import LinearRegression\n",
    "regressor = LinearRegression()\n",
    "regressor.fit(X_train, y_train)"
   ]
  },
  {
   "cell_type": "code",
   "execution_count": 0,
   "metadata": {
    "application/vnd.databricks.v1+cell": {
     "cellMetadata": {
      "byteLimit": 2048000,
      "rowLimit": 10000
     },
     "inputWidgets": {},
     "nuid": "5d669b3d-1d5d-411c-82d3-ad54a070fd0f",
     "showTitle": false,
     "title": ""
    }
   },
   "outputs": [
    {
     "output_type": "stream",
     "name": "stdout",
     "output_type": "stream",
     "text": [
      "[34.22898215]\n"
     ]
    }
   ],
   "source": [
    "print(regressor.intercept_)"
   ]
  },
  {
   "cell_type": "code",
   "execution_count": 0,
   "metadata": {
    "application/vnd.databricks.v1+cell": {
     "cellMetadata": {
      "byteLimit": 2048000,
      "rowLimit": 10000
     },
     "inputWidgets": {},
     "nuid": "ac076348-d33e-4dbb-ac98-178bf03c95b2",
     "showTitle": false,
     "title": ""
    }
   },
   "outputs": [
    {
     "output_type": "stream",
     "name": "stdout",
     "output_type": "stream",
     "text": [
      "[[-0.9257826]]\n"
     ]
    }
   ],
   "source": [
    "print(regressor.coef_)"
   ]
  },
  {
   "cell_type": "code",
   "execution_count": 0,
   "metadata": {
    "application/vnd.databricks.v1+cell": {
     "cellMetadata": {
      "byteLimit": 2048000,
      "rowLimit": 10000
     },
     "inputWidgets": {},
     "nuid": "58863818-10be-4c99-89fa-30a4093bd0a6",
     "showTitle": false,
     "title": ""
    }
   },
   "outputs": [
    {
     "output_type": "stream",
     "name": "stdout",
     "output_type": "stream",
     "text": [
      "[[30.02592915]\n [29.96112437]\n [ 5.70562028]\n [22.11048793]\n [24.79525747]\n [20.31446969]\n [26.28576745]\n [ 8.57554634]\n [24.50826486]\n [26.63756484]]\n"
     ]
    }
   ],
   "source": [
    "y_pred = regressor.predict(X_test)\n",
    "print(y_pred[:10]) "
   ]
  },
  {
   "cell_type": "code",
   "execution_count": 0,
   "metadata": {
    "application/vnd.databricks.v1+cell": {
     "cellMetadata": {
      "byteLimit": 2048000,
      "rowLimit": 10000
     },
     "inputWidgets": {},
     "nuid": "532757b2-b519-413e-b37a-c810d69ceeb6",
     "showTitle": false,
     "title": ""
    }
   },
   "outputs": [
    {
     "output_type": "stream",
     "name": "stdout",
     "output_type": "stream",
     "text": [
      "Mean Absolute Error:  4.745792983196672\nMean Squared Error:  42.214569513688275\nRoot Mean Squared Error:  6.497274006357457\n"
     ]
    }
   ],
   "source": [
    "from sklearn import metrics\n",
    "import numpy as np\n",
    "print(\"Mean Absolute Error: \", metrics.mean_absolute_error(y_test, y_pred))\n",
    "print(\"Mean Squared Error: \", metrics.mean_squared_error(y_test, y_pred))\n",
    "print(\"Root Mean Squared Error: \", np.sqrt(metrics.mean_squared_error(y_test, y_pred)))\n"
   ]
  },
  {
   "cell_type": "code",
   "execution_count": 0,
   "metadata": {
    "application/vnd.databricks.v1+cell": {
     "cellMetadata": {
      "byteLimit": 2048000,
      "rowLimit": 10000
     },
     "inputWidgets": {},
     "nuid": "978affe1-8ff4-4ce7-af60-592f27a95903",
     "showTitle": false,
     "title": ""
    }
   },
   "outputs": [],
   "source": [
    "def plot_regression_line(X, y, b):\n",
    "\tplt.scatter(X, y, color = \"m\",\n",
    "\t\t\tmarker = \"o\", s = 30)\n",
    "    \n",
    "\tplt.plot(X, y_pred, color = \"g\")\n",
    "\n",
    "\tplt.xlabel('x')\n",
    "\tplt.ylabel('y')\n",
    "\n",
    "\tplt.show()\n",
    "    \n",
    "import numpy as np\n",
    "import matplotlib.pyplot as plt\n",
    "\n",
    "def estimate_coef(X, y):\n",
    "\n",
    "\treturn (regressor.intercept_, regressor.coef_)"
   ]
  },
  {
   "cell_type": "code",
   "execution_count": 0,
   "metadata": {
    "application/vnd.databricks.v1+cell": {
     "cellMetadata": {
      "byteLimit": 2048000,
      "rowLimit": 10000
     },
     "inputWidgets": {},
     "nuid": "87f927ca-ac6a-4c0e-8af0-f9bdb952ae08",
     "showTitle": false,
     "title": ""
    }
   },
   "outputs": [
    {
     "output_type": "stream",
     "name": "stdout",
     "output_type": "stream",
     "text": [
      "Estimated coefficients:\nb_0 = [34.22898215] \t\nb_1 = [[-0.9257826]]\n"
     ]
    },
    {
     "output_type": "display_data",
     "data": {
      "image/png": "[encoded data removed]"
     },
     "metadata": {
      "application/vnd.databricks.v1+output": {
       "addedWidgets": {},
       "arguments": {},
       "data": "data:image/png;base64,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\n",
       "datasetInfos": [],
       "metadata": {},
       "removedWidgets": [],
       "type": "image"
      }
     },
     "output_type": "display_data"
    },
    {
     "output_type": "display_data",
     "data": {
      "text/plain": [
       "\u001B[0;31m---------------------------------------------------------------------------\u001B[0m\n",
       "\u001B[0;31mTypeError\u001B[0m                                 Traceback (most recent call last)\n",
       "File \u001B[0;32m/databricks/python/lib/python3.9/site-packages/pandas/core/indexes/base.py:3621\u001B[0m, in \u001B[0;36mIndex.get_loc\u001B[0;34m(self, key, method, tolerance)\u001B[0m\n",
       "\u001B[1;32m   3620\u001B[0m \u001B[38;5;28;01mtry\u001B[39;00m:\n",
       "\u001B[0;32m-> 3621\u001B[0m     \u001B[38;5;28;01mreturn\u001B[39;00m \u001B[38;5;28;43mself\u001B[39;49m\u001B[38;5;241;43m.\u001B[39;49m\u001B[43m_engine\u001B[49m\u001B[38;5;241;43m.\u001B[39;49m\u001B[43mget_loc\u001B[49m\u001B[43m(\u001B[49m\u001B[43mcasted_key\u001B[49m\u001B[43m)\u001B[49m\n",
       "\u001B[1;32m   3622\u001B[0m \u001B[38;5;28;01mexcept\u001B[39;00m \u001B[38;5;167;01mKeyError\u001B[39;00m \u001B[38;5;28;01mas\u001B[39;00m err:\n",
       "\n",
       "File \u001B[0;32m/databricks/python/lib/python3.9/site-packages/pandas/_libs/index.pyx:136\u001B[0m, in \u001B[0;36mpandas._libs.index.IndexEngine.get_loc\u001B[0;34m()\u001B[0m\n",
       "\n",
       "File \u001B[0;32m/databricks/python/lib/python3.9/site-packages/pandas/_libs/index.pyx:142\u001B[0m, in \u001B[0;36mpandas._libs.index.IndexEngine.get_loc\u001B[0;34m()\u001B[0m\n",
       "\n",
       "\u001B[0;31mTypeError\u001B[0m: '(slice(None, None, None), None)' is an invalid key\n",
       "\n",
       "During handling of the above exception, another exception occurred:\n",
       "\n",
       "\u001B[0;31mInvalidIndexError\u001B[0m                         Traceback (most recent call last)\n",
       "File \u001B[0;32m<command-1318017803361174>:5\u001B[0m\n",
       "\u001B[1;32m      1\u001B[0m b \u001B[38;5;241m=\u001B[39m estimate_coef(X_test, y_test)\n",
       "\u001B[1;32m      2\u001B[0m \u001B[38;5;28mprint\u001B[39m(\u001B[38;5;124m\"\u001B[39m\u001B[38;5;124mEstimated coefficients:\u001B[39m\u001B[38;5;130;01m\\n\u001B[39;00m\u001B[38;5;124mb_0 = \u001B[39m\u001B[38;5;132;01m{}\u001B[39;00m\u001B[38;5;124m \u001B[39m\u001B[38;5;130;01m\\\u001B[39;00m\n",
       "\u001B[1;32m      3\u001B[0m \u001B[38;5;124m\t\u001B[39m\u001B[38;5;130;01m\\n\u001B[39;00m\u001B[38;5;124mb_1 = \u001B[39m\u001B[38;5;132;01m{}\u001B[39;00m\u001B[38;5;124m\"\u001B[39m\u001B[38;5;241m.\u001B[39mformat(regressor\u001B[38;5;241m.\u001B[39mintercept_, regressor\u001B[38;5;241m.\u001B[39mcoef_))\n",
       "\u001B[0;32m----> 5\u001B[0m plot_regression_line(X_test, y_test, b)\n",
       "\n",
       "File \u001B[0;32m<command-1318017803361173>:5\u001B[0m, in \u001B[0;36mplot_regression_line\u001B[0;34m(X, y, b)\u001B[0m\n",
       "\u001B[1;32m      1\u001B[0m \u001B[38;5;28;01mdef\u001B[39;00m \u001B[38;5;21mplot_regression_line\u001B[39m(X, y, b):\n",
       "\u001B[1;32m      2\u001B[0m \tplt\u001B[38;5;241m.\u001B[39mscatter(X, y, color \u001B[38;5;241m=\u001B[39m \u001B[38;5;124m\"\u001B[39m\u001B[38;5;124mm\u001B[39m\u001B[38;5;124m\"\u001B[39m,\n",
       "\u001B[1;32m      3\u001B[0m \t\t\tmarker \u001B[38;5;241m=\u001B[39m \u001B[38;5;124m\"\u001B[39m\u001B[38;5;124mo\u001B[39m\u001B[38;5;124m\"\u001B[39m, s \u001B[38;5;241m=\u001B[39m \u001B[38;5;241m30\u001B[39m)\n",
       "\u001B[0;32m----> 5\u001B[0m \t\u001B[43mplt\u001B[49m\u001B[38;5;241;43m.\u001B[39;49m\u001B[43mplot\u001B[49m\u001B[43m(\u001B[49m\u001B[43mX\u001B[49m\u001B[43m,\u001B[49m\u001B[43m \u001B[49m\u001B[43my_pred\u001B[49m\u001B[43m,\u001B[49m\u001B[43m \u001B[49m\u001B[43mcolor\u001B[49m\u001B[43m \u001B[49m\u001B[38;5;241;43m=\u001B[39;49m\u001B[43m \u001B[49m\u001B[38;5;124;43m\"\u001B[39;49m\u001B[38;5;124;43mg\u001B[39;49m\u001B[38;5;124;43m\"\u001B[39;49m\u001B[43m)\u001B[49m\n",
       "\u001B[1;32m      7\u001B[0m \tplt\u001B[38;5;241m.\u001B[39mxlabel(\u001B[38;5;124m'\u001B[39m\u001B[38;5;124mx\u001B[39m\u001B[38;5;124m'\u001B[39m)\n",
       "\u001B[1;32m      8\u001B[0m \tplt\u001B[38;5;241m.\u001B[39mylabel(\u001B[38;5;124m'\u001B[39m\u001B[38;5;124my\u001B[39m\u001B[38;5;124m'\u001B[39m)\n",
       "\n",
       "File \u001B[0;32m/databricks/python/lib/python3.9/site-packages/matplotlib/pyplot.py:2757\u001B[0m, in \u001B[0;36mplot\u001B[0;34m(scalex, scaley, data, *args, **kwargs)\u001B[0m\n",
       "\u001B[1;32m   2755\u001B[0m \u001B[38;5;129m@_copy_docstring_and_deprecators\u001B[39m(Axes\u001B[38;5;241m.\u001B[39mplot)\n",
       "\u001B[1;32m   2756\u001B[0m \u001B[38;5;28;01mdef\u001B[39;00m \u001B[38;5;21mplot\u001B[39m(\u001B[38;5;241m*\u001B[39margs, scalex\u001B[38;5;241m=\u001B[39m\u001B[38;5;28;01mTrue\u001B[39;00m, scaley\u001B[38;5;241m=\u001B[39m\u001B[38;5;28;01mTrue\u001B[39;00m, data\u001B[38;5;241m=\u001B[39m\u001B[38;5;28;01mNone\u001B[39;00m, \u001B[38;5;241m*\u001B[39m\u001B[38;5;241m*\u001B[39mkwargs):\n",
       "\u001B[0;32m-> 2757\u001B[0m     \u001B[38;5;28;01mreturn\u001B[39;00m \u001B[43mgca\u001B[49m\u001B[43m(\u001B[49m\u001B[43m)\u001B[49m\u001B[38;5;241;43m.\u001B[39;49m\u001B[43mplot\u001B[49m\u001B[43m(\u001B[49m\n",
       "\u001B[1;32m   2758\u001B[0m \u001B[43m        \u001B[49m\u001B[38;5;241;43m*\u001B[39;49m\u001B[43margs\u001B[49m\u001B[43m,\u001B[49m\u001B[43m \u001B[49m\u001B[43mscalex\u001B[49m\u001B[38;5;241;43m=\u001B[39;49m\u001B[43mscalex\u001B[49m\u001B[43m,\u001B[49m\u001B[43m \u001B[49m\u001B[43mscaley\u001B[49m\u001B[38;5;241;43m=\u001B[39;49m\u001B[43mscaley\u001B[49m\u001B[43m,\u001B[49m\n",
       "\u001B[1;32m   2759\u001B[0m \u001B[43m        \u001B[49m\u001B[38;5;241;43m*\u001B[39;49m\u001B[38;5;241;43m*\u001B[39;49m\u001B[43m(\u001B[49m\u001B[43m{\u001B[49m\u001B[38;5;124;43m\"\u001B[39;49m\u001B[38;5;124;43mdata\u001B[39;49m\u001B[38;5;124;43m\"\u001B[39;49m\u001B[43m:\u001B[49m\u001B[43m \u001B[49m\u001B[43mdata\u001B[49m\u001B[43m}\u001B[49m\u001B[43m \u001B[49m\u001B[38;5;28;43;01mif\u001B[39;49;00m\u001B[43m \u001B[49m\u001B[43mdata\u001B[49m\u001B[43m \u001B[49m\u001B[38;5;129;43;01mis\u001B[39;49;00m\u001B[43m \u001B[49m\u001B[38;5;129;43;01mnot\u001B[39;49;00m\u001B[43m \u001B[49m\u001B[38;5;28;43;01mNone\u001B[39;49;00m\u001B[43m \u001B[49m\u001B[38;5;28;43;01melse\u001B[39;49;00m\u001B[43m \u001B[49m\u001B[43m{\u001B[49m\u001B[43m}\u001B[49m\u001B[43m)\u001B[49m\u001B[43m,\u001B[49m\u001B[43m \u001B[49m\u001B[38;5;241;43m*\u001B[39;49m\u001B[38;5;241;43m*\u001B[39;49m\u001B[43mkwargs\u001B[49m\u001B[43m)\u001B[49m\n",
       "\n",
       "File \u001B[0;32m/databricks/python/lib/python3.9/site-packages/matplotlib/axes/_axes.py:1632\u001B[0m, in \u001B[0;36mAxes.plot\u001B[0;34m(self, scalex, scaley, data, *args, **kwargs)\u001B[0m\n",
       "\u001B[1;32m   1390\u001B[0m \u001B[38;5;124;03m\"\"\"\u001B[39;00m\n",
       "\u001B[1;32m   1391\u001B[0m \u001B[38;5;124;03mPlot y versus x as lines and/or markers.\u001B[39;00m\n",
       "\u001B[1;32m   1392\u001B[0m \n",
       "\u001B[0;32m   (...)\u001B[0m\n",
       "\u001B[1;32m   1629\u001B[0m \u001B[38;5;124;03m(``'green'``) or hex strings (``'#008000'``).\u001B[39;00m\n",
       "\u001B[1;32m   1630\u001B[0m \u001B[38;5;124;03m\"\"\"\u001B[39;00m\n",
       "\u001B[1;32m   1631\u001B[0m kwargs \u001B[38;5;241m=\u001B[39m cbook\u001B[38;5;241m.\u001B[39mnormalize_kwargs(kwargs, mlines\u001B[38;5;241m.\u001B[39mLine2D)\n",
       "\u001B[0;32m-> 1632\u001B[0m lines \u001B[38;5;241m=\u001B[39m [\u001B[38;5;241m*\u001B[39m\u001B[38;5;28mself\u001B[39m\u001B[38;5;241m.\u001B[39m_get_lines(\u001B[38;5;241m*\u001B[39margs, data\u001B[38;5;241m=\u001B[39mdata, \u001B[38;5;241m*\u001B[39m\u001B[38;5;241m*\u001B[39mkwargs)]\n",
       "\u001B[1;32m   1633\u001B[0m \u001B[38;5;28;01mfor\u001B[39;00m line \u001B[38;5;129;01min\u001B[39;00m lines:\n",
       "\u001B[1;32m   1634\u001B[0m     \u001B[38;5;28mself\u001B[39m\u001B[38;5;241m.\u001B[39madd_line(line)\n",
       "\n",
       "File \u001B[0;32m/databricks/python/lib/python3.9/site-packages/matplotlib/axes/_base.py:312\u001B[0m, in \u001B[0;36m_process_plot_var_args.__call__\u001B[0;34m(self, data, *args, **kwargs)\u001B[0m\n",
       "\u001B[1;32m    310\u001B[0m     this \u001B[38;5;241m+\u001B[39m\u001B[38;5;241m=\u001B[39m args[\u001B[38;5;241m0\u001B[39m],\n",
       "\u001B[1;32m    311\u001B[0m     args \u001B[38;5;241m=\u001B[39m args[\u001B[38;5;241m1\u001B[39m:]\n",
       "\u001B[0;32m--> 312\u001B[0m \u001B[38;5;28;01myield from\u001B[39;00m \u001B[38;5;28;43mself\u001B[39;49m\u001B[38;5;241;43m.\u001B[39;49m\u001B[43m_plot_args\u001B[49m\u001B[43m(\u001B[49m\u001B[43mthis\u001B[49m\u001B[43m,\u001B[49m\u001B[43m \u001B[49m\u001B[43mkwargs\u001B[49m\u001B[43m)\u001B[49m\n",
       "\n",
       "File \u001B[0;32m/databricks/python/lib/python3.9/site-packages/matplotlib/axes/_base.py:487\u001B[0m, in \u001B[0;36m_process_plot_var_args._plot_args\u001B[0;34m(self, tup, kwargs, return_kwargs)\u001B[0m\n",
       "\u001B[1;32m    484\u001B[0m         kw[prop_name] \u001B[38;5;241m=\u001B[39m val\n",
       "\u001B[1;32m    486\u001B[0m \u001B[38;5;28;01mif\u001B[39;00m \u001B[38;5;28mlen\u001B[39m(xy) \u001B[38;5;241m==\u001B[39m \u001B[38;5;241m2\u001B[39m:\n",
       "\u001B[0;32m--> 487\u001B[0m     x \u001B[38;5;241m=\u001B[39m \u001B[43m_check_1d\u001B[49m\u001B[43m(\u001B[49m\u001B[43mxy\u001B[49m\u001B[43m[\u001B[49m\u001B[38;5;241;43m0\u001B[39;49m\u001B[43m]\u001B[49m\u001B[43m)\u001B[49m\n",
       "\u001B[1;32m    488\u001B[0m     y \u001B[38;5;241m=\u001B[39m _check_1d(xy[\u001B[38;5;241m1\u001B[39m])\n",
       "\u001B[1;32m    489\u001B[0m \u001B[38;5;28;01melse\u001B[39;00m:\n",
       "\n",
       "File \u001B[0;32m/databricks/python/lib/python3.9/site-packages/matplotlib/cbook/__init__.py:1327\u001B[0m, in \u001B[0;36m_check_1d\u001B[0;34m(x)\u001B[0m\n",
       "\u001B[1;32m   1321\u001B[0m \u001B[38;5;28;01mwith\u001B[39;00m warnings\u001B[38;5;241m.\u001B[39mcatch_warnings(record\u001B[38;5;241m=\u001B[39m\u001B[38;5;28;01mTrue\u001B[39;00m) \u001B[38;5;28;01mas\u001B[39;00m w:\n",
       "\u001B[1;32m   1322\u001B[0m     warnings\u001B[38;5;241m.\u001B[39mfilterwarnings(\n",
       "\u001B[1;32m   1323\u001B[0m         \u001B[38;5;124m\"\u001B[39m\u001B[38;5;124malways\u001B[39m\u001B[38;5;124m\"\u001B[39m,\n",
       "\u001B[1;32m   1324\u001B[0m         category\u001B[38;5;241m=\u001B[39m\u001B[38;5;167;01mWarning\u001B[39;00m,\n",
       "\u001B[1;32m   1325\u001B[0m         message\u001B[38;5;241m=\u001B[39m\u001B[38;5;124m'\u001B[39m\u001B[38;5;124mSupport for multi-dimensional indexing\u001B[39m\u001B[38;5;124m'\u001B[39m)\n",
       "\u001B[0;32m-> 1327\u001B[0m     ndim \u001B[38;5;241m=\u001B[39m \u001B[43mx\u001B[49m\u001B[43m[\u001B[49m\u001B[43m:\u001B[49m\u001B[43m,\u001B[49m\u001B[43m \u001B[49m\u001B[38;5;28;43;01mNone\u001B[39;49;00m\u001B[43m]\u001B[49m\u001B[38;5;241m.\u001B[39mndim\n",
       "\u001B[1;32m   1328\u001B[0m     \u001B[38;5;66;03m# we have definitely hit a pandas index or series object\u001B[39;00m\n",
       "\u001B[1;32m   1329\u001B[0m     \u001B[38;5;66;03m# cast to a numpy array.\u001B[39;00m\n",
       "\u001B[1;32m   1330\u001B[0m     \u001B[38;5;28;01mif\u001B[39;00m \u001B[38;5;28mlen\u001B[39m(w) \u001B[38;5;241m>\u001B[39m \u001B[38;5;241m0\u001B[39m:\n",
       "\n",
       "File \u001B[0;32m/databricks/python/lib/python3.9/site-packages/pandas/core/frame.py:3505\u001B[0m, in \u001B[0;36mDataFrame.__getitem__\u001B[0;34m(self, key)\u001B[0m\n",
       "\u001B[1;32m   3503\u001B[0m \u001B[38;5;28;01mif\u001B[39;00m \u001B[38;5;28mself\u001B[39m\u001B[38;5;241m.\u001B[39mcolumns\u001B[38;5;241m.\u001B[39mnlevels \u001B[38;5;241m>\u001B[39m \u001B[38;5;241m1\u001B[39m:\n",
       "\u001B[1;32m   3504\u001B[0m     \u001B[38;5;28;01mreturn\u001B[39;00m \u001B[38;5;28mself\u001B[39m\u001B[38;5;241m.\u001B[39m_getitem_multilevel(key)\n",
       "\u001B[0;32m-> 3505\u001B[0m indexer \u001B[38;5;241m=\u001B[39m \u001B[38;5;28;43mself\u001B[39;49m\u001B[38;5;241;43m.\u001B[39;49m\u001B[43mcolumns\u001B[49m\u001B[38;5;241;43m.\u001B[39;49m\u001B[43mget_loc\u001B[49m\u001B[43m(\u001B[49m\u001B[43mkey\u001B[49m\u001B[43m)\u001B[49m\n",
       "\u001B[1;32m   3506\u001B[0m \u001B[38;5;28;01mif\u001B[39;00m is_integer(indexer):\n",
       "\u001B[1;32m   3507\u001B[0m     indexer \u001B[38;5;241m=\u001B[39m [indexer]\n",
       "\n",
       "File \u001B[0;32m/databricks/python/lib/python3.9/site-packages/pandas/core/indexes/base.py:3628\u001B[0m, in \u001B[0;36mIndex.get_loc\u001B[0;34m(self, key, method, tolerance)\u001B[0m\n",
       "\u001B[1;32m   3623\u001B[0m         \u001B[38;5;28;01mraise\u001B[39;00m \u001B[38;5;167;01mKeyError\u001B[39;00m(key) \u001B[38;5;28;01mfrom\u001B[39;00m \u001B[38;5;21;01merr\u001B[39;00m\n",
       "\u001B[1;32m   3624\u001B[0m     \u001B[38;5;28;01mexcept\u001B[39;00m \u001B[38;5;167;01mTypeError\u001B[39;00m:\n",
       "\u001B[1;32m   3625\u001B[0m         \u001B[38;5;66;03m# If we have a listlike key, _check_indexing_error will raise\u001B[39;00m\n",
       "\u001B[1;32m   3626\u001B[0m         \u001B[38;5;66;03m#  InvalidIndexError. Otherwise we fall through and re-raise\u001B[39;00m\n",
       "\u001B[1;32m   3627\u001B[0m         \u001B[38;5;66;03m#  the TypeError.\u001B[39;00m\n",
       "\u001B[0;32m-> 3628\u001B[0m         \u001B[38;5;28;43mself\u001B[39;49m\u001B[38;5;241;43m.\u001B[39;49m\u001B[43m_check_indexing_error\u001B[49m\u001B[43m(\u001B[49m\u001B[43mkey\u001B[49m\u001B[43m)\u001B[49m\n",
       "\u001B[1;32m   3629\u001B[0m         \u001B[38;5;28;01mraise\u001B[39;00m\n",
       "\u001B[1;32m   3631\u001B[0m \u001B[38;5;66;03m# GH#42269\u001B[39;00m\n",
       "\n",
       "File \u001B[0;32m/databricks/python/lib/python3.9/site-packages/pandas/core/indexes/base.py:5637\u001B[0m, in \u001B[0;36mIndex._check_indexing_error\u001B[0;34m(self, key)\u001B[0m\n",
       "\u001B[1;32m   5633\u001B[0m \u001B[38;5;28;01mdef\u001B[39;00m \u001B[38;5;21m_check_indexing_error\u001B[39m(\u001B[38;5;28mself\u001B[39m, key):\n",
       "\u001B[1;32m   5634\u001B[0m     \u001B[38;5;28;01mif\u001B[39;00m \u001B[38;5;129;01mnot\u001B[39;00m is_scalar(key):\n",
       "\u001B[1;32m   5635\u001B[0m         \u001B[38;5;66;03m# if key is not a scalar, directly raise an error (the code below\u001B[39;00m\n",
       "\u001B[1;32m   5636\u001B[0m         \u001B[38;5;66;03m# would convert to numpy arrays and raise later any way) - GH29926\u001B[39;00m\n",
       "\u001B[0;32m-> 5637\u001B[0m         \u001B[38;5;28;01mraise\u001B[39;00m InvalidIndexError(key)\n",
       "\n",
       "\u001B[0;31mInvalidIndexError\u001B[0m: (slice(None, None, None), None)"
      ]
     },
     "metadata": {
      "application/vnd.databricks.v1+output": {
       "arguments": {},
       "data": "\u001B[0;31m---------------------------------------------------------------------------\u001B[0m\n\u001B[0;31mTypeError\u001B[0m                                 Traceback (most recent call last)\nFile \u001B[0;32m/databricks/python/lib/python3.9/site-packages/pandas/core/indexes/base.py:3621\u001B[0m, in \u001B[0;36mIndex.get_loc\u001B[0;34m(self, key, method, tolerance)\u001B[0m\n\u001B[1;32m   3620\u001B[0m \u001B[38;5;28;01mtry\u001B[39;00m:\n\u001B[0;32m-> 3621\u001B[0m     \u001B[38;5;28;01mreturn\u001B[39;00m \u001B[38;5;28;43mself\u001B[39;49m\u001B[38;5;241;43m.\u001B[39;49m\u001B[43m_engine\u001B[49m\u001B[38;5;241;43m.\u001B[39;49m\u001B[43mget_loc\u001B[49m\u001B[43m(\u001B[49m\u001B[43mcasted_key\u001B[49m\u001B[43m)\u001B[49m\n\u001B[1;32m   3622\u001B[0m \u001B[38;5;28;01mexcept\u001B[39;00m \u001B[38;5;167;01mKeyError\u001B[39;00m \u001B[38;5;28;01mas\u001B[39;00m err:\n\nFile \u001B[0;32m/databricks/python/lib/python3.9/site-packages/pandas/_libs/index.pyx:136\u001B[0m, in \u001B[0;36mpandas._libs.index.IndexEngine.get_loc\u001B[0;34m()\u001B[0m\n\nFile \u001B[0;32m/databricks/python/lib/python3.9/site-packages/pandas/_libs/index.pyx:142\u001B[0m, in \u001B[0;36mpandas._libs.index.IndexEngine.get_loc\u001B[0;34m()\u001B[0m\n\n\u001B[0;31mTypeError\u001B[0m: '(slice(None, None, None), None)' is an invalid key\n\nDuring handling of the above exception, another exception occurred:\n\n\u001B[0;31mInvalidIndexError\u001B[0m                         Traceback (most recent call last)\nFile \u001B[0;32m<command-1318017803361174>:5\u001B[0m\n\u001B[1;32m      1\u001B[0m b \u001B[38;5;241m=\u001B[39m estimate_coef(X_test, y_test)\n\u001B[1;32m      2\u001B[0m \u001B[38;5;28mprint\u001B[39m(\u001B[38;5;124m\"\u001B[39m\u001B[38;5;124mEstimated coefficients:\u001B[39m\u001B[38;5;130;01m\\n\u001B[39;00m\u001B[38;5;124mb_0 = \u001B[39m\u001B[38;5;132;01m{}\u001B[39;00m\u001B[38;5;124m \u001B[39m\u001B[38;5;130;01m\\\u001B[39;00m\n\u001B[1;32m      3\u001B[0m \u001B[38;5;124m\t\u001B[39m\u001B[38;5;130;01m\\n\u001B[39;00m\u001B[38;5;124mb_1 = \u001B[39m\u001B[38;5;132;01m{}\u001B[39;00m\u001B[38;5;124m\"\u001B[39m\u001B[38;5;241m.\u001B[39mformat(regressor\u001B[38;5;241m.\u001B[39mintercept_, regressor\u001B[38;5;241m.\u001B[39mcoef_))\n\u001B[0;32m----> 5\u001B[0m plot_regression_line(X_test, y_test, b)\n\nFile \u001B[0;32m<command-1318017803361173>:5\u001B[0m, in \u001B[0;36mplot_regression_line\u001B[0;34m(X, y, b)\u001B[0m\n\u001B[1;32m      1\u001B[0m \u001B[38;5;28;01mdef\u001B[39;00m \u001B[38;5;21mplot_regression_line\u001B[39m(X, y, b):\n\u001B[1;32m      2\u001B[0m \tplt\u001B[38;5;241m.\u001B[39mscatter(X, y, color \u001B[38;5;241m=\u001B[39m \u001B[38;5;124m\"\u001B[39m\u001B[38;5;124mm\u001B[39m\u001B[38;5;124m\"\u001B[39m,\n\u001B[1;32m      3\u001B[0m \t\t\tmarker \u001B[38;5;241m=\u001B[39m \u001B[38;5;124m\"\u001B[39m\u001B[38;5;124mo\u001B[39m\u001B[38;5;124m\"\u001B[39m, s \u001B[38;5;241m=\u001B[39m \u001B[38;5;241m30\u001B[39m)\n\u001B[0;32m----> 5\u001B[0m \t\u001B[43mplt\u001B[49m\u001B[38;5;241;43m.\u001B[39;49m\u001B[43mplot\u001B[49m\u001B[43m(\u001B[49m\u001B[43mX\u001B[49m\u001B[43m,\u001B[49m\u001B[43m \u001B[49m\u001B[43my_pred\u001B[49m\u001B[43m,\u001B[49m\u001B[43m \u001B[49m\u001B[43mcolor\u001B[49m\u001B[43m \u001B[49m\u001B[38;5;241;43m=\u001B[39;49m\u001B[43m \u001B[49m\u001B[38;5;124;43m\"\u001B[39;49m\u001B[38;5;124;43mg\u001B[39;49m\u001B[38;5;124;43m\"\u001B[39;49m\u001B[43m)\u001B[49m\n\u001B[1;32m      7\u001B[0m \tplt\u001B[38;5;241m.\u001B[39mxlabel(\u001B[38;5;124m'\u001B[39m\u001B[38;5;124mx\u001B[39m\u001B[38;5;124m'\u001B[39m)\n\u001B[1;32m      8\u001B[0m \tplt\u001B[38;5;241m.\u001B[39mylabel(\u001B[38;5;124m'\u001B[39m\u001B[38;5;124my\u001B[39m\u001B[38;5;124m'\u001B[39m)\n\nFile \u001B[0;32m/databricks/python/lib/python3.9/site-packages/matplotlib/pyplot.py:2757\u001B[0m, in \u001B[0;36mplot\u001B[0;34m(scalex, scaley, data, *args, **kwargs)\u001B[0m\n\u001B[1;32m   2755\u001B[0m \u001B[38;5;129m@_copy_docstring_and_deprecators\u001B[39m(Axes\u001B[38;5;241m.\u001B[39mplot)\n\u001B[1;32m   2756\u001B[0m \u001B[38;5;28;01mdef\u001B[39;00m \u001B[38;5;21mplot\u001B[39m(\u001B[38;5;241m*\u001B[39margs, scalex\u001B[38;5;241m=\u001B[39m\u001B[38;5;28;01mTrue\u001B[39;00m, scaley\u001B[38;5;241m=\u001B[39m\u001B[38;5;28;01mTrue\u001B[39;00m, data\u001B[38;5;241m=\u001B[39m\u001B[38;5;28;01mNone\u001B[39;00m, \u001B[38;5;241m*\u001B[39m\u001B[38;5;241m*\u001B[39mkwargs):\n\u001B[0;32m-> 2757\u001B[0m     \u001B[38;5;28;01mreturn\u001B[39;00m \u001B[43mgca\u001B[49m\u001B[43m(\u001B[49m\u001B[43m)\u001B[49m\u001B[38;5;241;43m.\u001B[39;49m\u001B[43mplot\u001B[49m\u001B[43m(\u001B[49m\n\u001B[1;32m   2758\u001B[0m \u001B[43m        \u001B[49m\u001B[38;5;241;43m*\u001B[39;49m\u001B[43margs\u001B[49m\u001B[43m,\u001B[49m\u001B[43m \u001B[49m\u001B[43mscalex\u001B[49m\u001B[38;5;241;43m=\u001B[39;49m\u001B[43mscalex\u001B[49m\u001B[43m,\u001B[49m\u001B[43m \u001B[49m\u001B[43mscaley\u001B[49m\u001B[38;5;241;43m=\u001B[39;49m\u001B[43mscaley\u001B[49m\u001B[43m,\u001B[49m\n\u001B[1;32m   2759\u001B[0m \u001B[43m        \u001B[49m\u001B[38;5;241;43m*\u001B[39;49m\u001B[38;5;241;43m*\u001B[39;49m\u001B[43m(\u001B[49m\u001B[43m{\u001B[49m\u001B[38;5;124;43m\"\u001B[39;49m\u001B[38;5;124;43mdata\u001B[39;49m\u001B[38;5;124;43m\"\u001B[39;49m\u001B[43m:\u001B[49m\u001B[43m \u001B[49m\u001B[43mdata\u001B[49m\u001B[43m}\u001B[49m\u001B[43m \u001B[49m\u001B[38;5;28;43;01mif\u001B[39;49;00m\u001B[43m \u001B[49m\u001B[43mdata\u001B[49m\u001B[43m \u001B[49m\u001B[38;5;129;43;01mis\u001B[39;49;00m\u001B[43m \u001B[49m\u001B[38;5;129;43;01mnot\u001B[39;49;00m\u001B[43m \u001B[49m\u001B[38;5;28;43;01mNone\u001B[39;49;00m\u001B[43m \u001B[49m\u001B[38;5;28;43;01melse\u001B[39;49;00m\u001B[43m \u001B[49m\u001B[43m{\u001B[49m\u001B[43m}\u001B[49m\u001B[43m)\u001B[49m\u001B[43m,\u001B[49m\u001B[43m \u001B[49m\u001B[38;5;241;43m*\u001B[39;49m\u001B[38;5;241;43m*\u001B[39;49m\u001B[43mkwargs\u001B[49m\u001B[43m)\u001B[49m\n\nFile \u001B[0;32m/databricks/python/lib/python3.9/site-packages/matplotlib/axes/_axes.py:1632\u001B[0m, in \u001B[0;36mAxes.plot\u001B[0;34m(self, scalex, scaley, data, *args, **kwargs)\u001B[0m\n\u001B[1;32m   1390\u001B[0m \u001B[38;5;124;03m\"\"\"\u001B[39;00m\n\u001B[1;32m   1391\u001B[0m \u001B[38;5;124;03mPlot y versus x as lines and/or markers.\u001B[39;00m\n\u001B[1;32m   1392\u001B[0m \n\u001B[0;32m   (...)\u001B[0m\n\u001B[1;32m   1629\u001B[0m \u001B[38;5;124;03m(``'green'``) or hex strings (``'#008000'``).\u001B[39;00m\n\u001B[1;32m   1630\u001B[0m \u001B[38;5;124;03m\"\"\"\u001B[39;00m\n\u001B[1;32m   1631\u001B[0m kwargs \u001B[38;5;241m=\u001B[39m cbook\u001B[38;5;241m.\u001B[39mnormalize_kwargs(kwargs, mlines\u001B[38;5;241m.\u001B[39mLine2D)\n\u001B[0;32m-> 1632\u001B[0m lines \u001B[38;5;241m=\u001B[39m [\u001B[38;5;241m*\u001B[39m\u001B[38;5;28mself\u001B[39m\u001B[38;5;241m.\u001B[39m_get_lines(\u001B[38;5;241m*\u001B[39margs, data\u001B[38;5;241m=\u001B[39mdata, \u001B[38;5;241m*\u001B[39m\u001B[38;5;241m*\u001B[39mkwargs)]\n\u001B[1;32m   1633\u001B[0m \u001B[38;5;28;01mfor\u001B[39;00m line \u001B[38;5;129;01min\u001B[39;00m lines:\n\u001B[1;32m   1634\u001B[0m     \u001B[38;5;28mself\u001B[39m\u001B[38;5;241m.\u001B[39madd_line(line)\n\nFile \u001B[0;32m/databricks/python/lib/python3.9/site-packages/matplotlib/axes/_base.py:312\u001B[0m, in \u001B[0;36m_process_plot_var_args.__call__\u001B[0;34m(self, data, *args, **kwargs)\u001B[0m\n\u001B[1;32m    310\u001B[0m     this \u001B[38;5;241m+\u001B[39m\u001B[38;5;241m=\u001B[39m args[\u001B[38;5;241m0\u001B[39m],\n\u001B[1;32m    311\u001B[0m     args \u001B[38;5;241m=\u001B[39m args[\u001B[38;5;241m1\u001B[39m:]\n\u001B[0;32m--> 312\u001B[0m \u001B[38;5;28;01myield from\u001B[39;00m \u001B[38;5;28;43mself\u001B[39;49m\u001B[38;5;241;43m.\u001B[39;49m\u001B[43m_plot_args\u001B[49m\u001B[43m(\u001B[49m\u001B[43mthis\u001B[49m\u001B[43m,\u001B[49m\u001B[43m \u001B[49m\u001B[43mkwargs\u001B[49m\u001B[43m)\u001B[49m\n\nFile \u001B[0;32m/databricks/python/lib/python3.9/site-packages/matplotlib/axes/_base.py:487\u001B[0m, in \u001B[0;36m_process_plot_var_args._plot_args\u001B[0;34m(self, tup, kwargs, return_kwargs)\u001B[0m\n\u001B[1;32m    484\u001B[0m         kw[prop_name] \u001B[38;5;241m=\u001B[39m val\n\u001B[1;32m    486\u001B[0m \u001B[38;5;28;01mif\u001B[39;00m \u001B[38;5;28mlen\u001B[39m(xy) \u001B[38;5;241m==\u001B[39m \u001B[38;5;241m2\u001B[39m:\n\u001B[0;32m--> 487\u001B[0m     x \u001B[38;5;241m=\u001B[39m \u001B[43m_check_1d\u001B[49m\u001B[43m(\u001B[49m\u001B[43mxy\u001B[49m\u001B[43m[\u001B[49m\u001B[38;5;241;43m0\u001B[39;49m\u001B[43m]\u001B[49m\u001B[43m)\u001B[49m\n\u001B[1;32m    488\u001B[0m     y \u001B[38;5;241m=\u001B[39m _check_1d(xy[\u001B[38;5;241m1\u001B[39m])\n\u001B[1;32m    489\u001B[0m \u001B[38;5;28;01melse\u001B[39;00m:\n\nFile \u001B[0;32m/databricks/python/lib/python3.9/site-packages/matplotlib/cbook/__init__.py:1327\u001B[0m, in \u001B[0;36m_check_1d\u001B[0;34m(x)\u001B[0m\n\u001B[1;32m   1321\u001B[0m \u001B[38;5;28;01mwith\u001B[39;00m warnings\u001B[38;5;241m.\u001B[39mcatch_warnings(record\u001B[38;5;241m=\u001B[39m\u001B[38;5;28;01mTrue\u001B[39;00m) \u001B[38;5;28;01mas\u001B[39;00m w:\n\u001B[1;32m   1322\u001B[0m     warnings\u001B[38;5;241m.\u001B[39mfilterwarnings(\n\u001B[1;32m   1323\u001B[0m         \u001B[38;5;124m\"\u001B[39m\u001B[38;5;124malways\u001B[39m\u001B[38;5;124m\"\u001B[39m,\n\u001B[1;32m   1324\u001B[0m         category\u001B[38;5;241m=\u001B[39m\u001B[38;5;167;01mWarning\u001B[39;00m,\n\u001B[1;32m   1325\u001B[0m         message\u001B[38;5;241m=\u001B[39m\u001B[38;5;124m'\u001B[39m\u001B[38;5;124mSupport for multi-dimensional indexing\u001B[39m\u001B[38;5;124m'\u001B[39m)\n\u001B[0;32m-> 1327\u001B[0m     ndim \u001B[38;5;241m=\u001B[39m \u001B[43mx\u001B[49m\u001B[43m[\u001B[49m\u001B[43m:\u001B[49m\u001B[43m,\u001B[49m\u001B[43m \u001B[49m\u001B[38;5;28;43;01mNone\u001B[39;49;00m\u001B[43m]\u001B[49m\u001B[38;5;241m.\u001B[39mndim\n\u001B[1;32m   1328\u001B[0m     \u001B[38;5;66;03m# we have definitely hit a pandas index or series object\u001B[39;00m\n\u001B[1;32m   1329\u001B[0m     \u001B[38;5;66;03m# cast to a numpy array.\u001B[39;00m\n\u001B[1;32m   1330\u001B[0m     \u001B[38;5;28;01mif\u001B[39;00m \u001B[38;5;28mlen\u001B[39m(w) \u001B[38;5;241m>\u001B[39m \u001B[38;5;241m0\u001B[39m:\n\nFile \u001B[0;32m/databricks/python/lib/python3.9/site-packages/pandas/core/frame.py:3505\u001B[0m, in \u001B[0;36mDataFrame.__getitem__\u001B[0;34m(self, key)\u001B[0m\n\u001B[1;32m   3503\u001B[0m \u001B[38;5;28;01mif\u001B[39;00m \u001B[38;5;28mself\u001B[39m\u001B[38;5;241m.\u001B[39mcolumns\u001B[38;5;241m.\u001B[39mnlevels \u001B[38;5;241m>\u001B[39m \u001B[38;5;241m1\u001B[39m:\n\u001B[1;32m   3504\u001B[0m     \u001B[38;5;28;01mreturn\u001B[39;00m \u001B[38;5;28mself\u001B[39m\u001B[38;5;241m.\u001B[39m_getitem_multilevel(key)\n\u001B[0;32m-> 3505\u001B[0m indexer \u001B[38;5;241m=\u001B[39m \u001B[38;5;28;43mself\u001B[39;49m\u001B[38;5;241;43m.\u001B[39;49m\u001B[43mcolumns\u001B[49m\u001B[38;5;241;43m.\u001B[39;49m\u001B[43mget_loc\u001B[49m\u001B[43m(\u001B[49m\u001B[43mkey\u001B[49m\u001B[43m)\u001B[49m\n\u001B[1;32m   3506\u001B[0m \u001B[38;5;28;01mif\u001B[39;00m is_integer(indexer):\n\u001B[1;32m   3507\u001B[0m     indexer \u001B[38;5;241m=\u001B[39m [indexer]\n\nFile \u001B[0;32m/databricks/python/lib/python3.9/site-packages/pandas/core/indexes/base.py:3628\u001B[0m, in \u001B[0;36mIndex.get_loc\u001B[0;34m(self, key, method, tolerance)\u001B[0m\n\u001B[1;32m   3623\u001B[0m         \u001B[38;5;28;01mraise\u001B[39;00m \u001B[38;5;167;01mKeyError\u001B[39;00m(key) \u001B[38;5;28;01mfrom\u001B[39;00m \u001B[38;5;21;01merr\u001B[39;00m\n\u001B[1;32m   3624\u001B[0m     \u001B[38;5;28;01mexcept\u001B[39;00m \u001B[38;5;167;01mTypeError\u001B[39;00m:\n\u001B[1;32m   3625\u001B[0m         \u001B[38;5;66;03m# If we have a listlike key, _check_indexing_error will raise\u001B[39;00m\n\u001B[1;32m   3626\u001B[0m         \u001B[38;5;66;03m#  InvalidIndexError. Otherwise we fall through and re-raise\u001B[39;00m\n\u001B[1;32m   3627\u001B[0m         \u001B[38;5;66;03m#  the TypeError.\u001B[39;00m\n\u001B[0;32m-> 3628\u001B[0m         \u001B[38;5;28;43mself\u001B[39;49m\u001B[38;5;241;43m.\u001B[39;49m\u001B[43m_check_indexing_error\u001B[49m\u001B[43m(\u001B[49m\u001B[43mkey\u001B[49m\u001B[43m)\u001B[49m\n\u001B[1;32m   3629\u001B[0m         \u001B[38;5;28;01mraise\u001B[39;00m\n\u001B[1;32m   3631\u001B[0m \u001B[38;5;66;03m# GH#42269\u001B[39;00m\n\nFile \u001B[0;32m/databricks/python/lib/python3.9/site-packages/pandas/core/indexes/base.py:5637\u001B[0m, in \u001B[0;36mIndex._check_indexing_error\u001B[0;34m(self, key)\u001B[0m\n\u001B[1;32m   5633\u001B[0m \u001B[38;5;28;01mdef\u001B[39;00m \u001B[38;5;21m_check_indexing_error\u001B[39m(\u001B[38;5;28mself\u001B[39m, key):\n\u001B[1;32m   5634\u001B[0m     \u001B[38;5;28;01mif\u001B[39;00m \u001B[38;5;129;01mnot\u001B[39;00m is_scalar(key):\n\u001B[1;32m   5635\u001B[0m         \u001B[38;5;66;03m# if key is not a scalar, directly raise an error (the code below\u001B[39;00m\n\u001B[1;32m   5636\u001B[0m         \u001B[38;5;66;03m# would convert to numpy arrays and raise later any way) - GH29926\u001B[39;00m\n\u001B[0;32m-> 5637\u001B[0m         \u001B[38;5;28;01mraise\u001B[39;00m InvalidIndexError(key)\n\n\u001B[0;31mInvalidIndexError\u001B[0m: (slice(None, None, None), None)",
       "errorSummary": "<span class='ansi-red-fg'>InvalidIndexError</span>: (slice(None, None, None), None)",
       "errorTraceType": "ansi",
       "metadata": {},
       "type": "ipynbError"
      }
     },
     "output_type": "display_data"
    }
   ],
   "source": [
    "b = estimate_coef(X_test, y_test)\n",
    "print(\"Estimated coefficients:\\nb_0 = {} \\\n",
    "\t\\nb_1 = {}\".format(regressor.intercept_, regressor.coef_))\n",
    "\n",
    "plot_regression_line(X_test, y_test, b)"
   ]
  }
 ],
 "metadata": {
  "application/vnd.databricks.v1+notebook": {
   "dashboards": [],
   "language": "python",
   "notebookMetadata": {
    "pythonIndentUnit": 4
   },
   "notebookName": "Linear Regression using csv (Python)",
   "widgets": {}
  }
 },
 "nbformat": 4,
 "nbformat_minor": 0
}
