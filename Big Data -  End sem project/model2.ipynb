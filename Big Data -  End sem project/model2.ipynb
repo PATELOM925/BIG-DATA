{
 "cells": [
  {
   "cell_type": "code",
   "execution_count": 1,
   "metadata": {},
   "outputs": [],
   "source": [
    "import pandas as pd\n",
    "import numpy as np\n",
    "import matplotlib.pyplot as plt\n",
    "import pyarrow.parquet as pq\n",
    "import tensorflow as tf\n",
    "from tensorflow import keras\n",
    "from tensorflow.keras import layers, models"
   ]
  },
  {
   "cell_type": "code",
   "execution_count": 2,
   "metadata": {},
   "outputs": [
    {
     "name": "stdout",
     "output_type": "stream",
     "text": [
      "  hvfhs_license_num dispatching_base_num originating_base_num  \\\n",
      "0            HV0003               B02682               B02682   \n",
      "1            HV0003               B02682               B02682   \n",
      "2            HV0003               B02764               B02764   \n",
      "3            HV0003               B02764               B02764   \n",
      "4            HV0003               B02764               B02764   \n",
      "\n",
      "     request_datetime   on_scene_datetime     pickup_datetime  \\\n",
      "0 2021-01-01 00:28:09 2021-01-01 00:31:42 2021-01-01 00:33:44   \n",
      "1 2021-01-01 00:45:56 2021-01-01 00:55:19 2021-01-01 00:55:19   \n",
      "2 2021-01-01 00:21:15 2021-01-01 00:22:41 2021-01-01 00:23:56   \n",
      "3 2021-01-01 00:39:12 2021-01-01 00:42:37 2021-01-01 00:42:51   \n",
      "4 2021-01-01 00:46:11 2021-01-01 00:47:17 2021-01-01 00:48:14   \n",
      "\n",
      "     dropoff_datetime  PULocationID  DOLocationID  trip_miles  ...  sales_tax  \\\n",
      "0 2021-01-01 00:49:07           230           166        5.26  ...       1.98   \n",
      "1 2021-01-01 01:18:21           152           167        3.65  ...       1.63   \n",
      "2 2021-01-01 00:38:05           233           142        3.51  ...       1.25   \n",
      "3 2021-01-01 00:45:50           142           143        0.74  ...       0.70   \n",
      "4 2021-01-01 01:08:42           143            78        9.20  ...       2.41   \n",
      "\n",
      "   congestion_surcharge  airport_fee  tips  driver_pay  shared_request_flag  \\\n",
      "0                  2.75          NaN  0.00       14.99                    N   \n",
      "1                  0.00          NaN  0.00       17.06                    N   \n",
      "2                  2.75          NaN  0.94       12.98                    N   \n",
      "3                  2.75          NaN  0.00        7.41                    N   \n",
      "4                  2.75          NaN  0.00       22.44                    N   \n",
      "\n",
      "   shared_match_flag  access_a_ride_flag  wav_request_flag wav_match_flag  \n",
      "0                  N                                     N              N  \n",
      "1                  N                                     N              N  \n",
      "2                  N                                     N              N  \n",
      "3                  N                                     N              N  \n",
      "4                  N                                     N              N  \n",
      "\n",
      "[5 rows x 24 columns]\n"
     ]
    }
   ],
   "source": [
    "data = pd.read_parquet(\"../fhvhv_tripdata_2021-01.parquet\", engine=\"pyarrow\")\n",
    "print(data.head())"
   ]
  },
  {
   "cell_type": "code",
   "execution_count": 3,
   "metadata": {},
   "outputs": [],
   "source": [
    "data['driver_pay_per_mile'] = data['driver_pay'] / data['trip_miles']\n",
    "data['trip_duration'] = (data['dropoff_datetime'] - data['pickup_datetime']).dt.total_seconds()/60\n",
    "data['driver_pay_per_minute'] = data['driver_pay'] / data['trip_duration']\n"
   ]
  },
  {
   "cell_type": "code",
   "execution_count": 4,
   "metadata": {},
   "outputs": [
    {
     "name": "stderr",
     "output_type": "stream",
     "text": [
      "c:\\Users\\bhavy\\AppData\\Local\\Programs\\Python\\Python311\\Lib\\site-packages\\keras\\src\\layers\\core\\dense.py:85: UserWarning: Do not pass an `input_shape`/`input_dim` argument to a layer. When using Sequential models, prefer using an `Input(shape)` object as the first layer in the model instead.\n",
      "  super().__init__(activity_regularizer=activity_regularizer, **kwargs)\n"
     ]
    }
   ],
   "source": [
    "# create a model to use all the features to predict driver_pay\n",
    "model = models.Sequential([\n",
    "    layers.Dense(64, activation='relu', input_shape=[len(data.columns)]),\n",
    "    layers.Dense(64, activation='relu'),\n",
    "    layers.Dense(1)\n",
    "])\n",
    "\n",
    "model.compile(optimizer='adam', loss='mean_squared_error')\n",
    "\n",
    "# split the data into training and testing\n",
    "train_data = data.sample(frac=0.8, random_state=0)\n",
    "test_data = data.drop(train_data.index)\n",
    "\n",
    "train_labels = train_data.pop('driver_pay')\n",
    "test_labels = test_data.pop('driver_pay')\n",
    "\n",
    "model.fit(train_data, train_labels, epochs=10)\n",
    "\n",
    "test_loss = model.evaluate(test_data, test_labels)\n",
    "\n",
    "print(f\"Test loss: {test_loss}\")\n"
   ]
  },
  {
   "cell_type": "code",
   "execution_count": null,
   "metadata": {},
   "outputs": [],
   "source": []
  }
 ],
 "metadata": {
  "kernelspec": {
   "display_name": "Python 3",
   "language": "python",
   "name": "python3"
  },
  "language_info": {
   "codemirror_mode": {
    "name": "ipython",
    "version": 3
   },
   "file_extension": ".py",
   "mimetype": "text/x-python",
   "name": "python",
   "nbconvert_exporter": "python",
   "pygments_lexer": "ipython3",
   "version": "3.11.2"
  }
 },
 "nbformat": 4,
 "nbformat_minor": 2
}
