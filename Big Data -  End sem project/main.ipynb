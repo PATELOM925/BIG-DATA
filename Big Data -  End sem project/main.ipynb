{
 "cells": [
  {
   "cell_type": "code",
   "execution_count": 2,
   "metadata": {},
   "outputs": [],
   "source": [
    "import pandas as pd\n",
    "import numpy as np\n",
    "import matplotlib.pyplot as plt\n",
    "import pyarrow.parquet as pq"
   ]
  },
  {
   "cell_type": "code",
   "execution_count": 3,
   "metadata": {},
   "outputs": [
    {
     "name": "stdout",
     "output_type": "stream",
     "text": [
      "  hvfhs_license_num dispatching_base_num originating_base_num  \\\n",
      "0            HV0003               B02682               B02682   \n",
      "1            HV0003               B02682               B02682   \n",
      "2            HV0003               B02764               B02764   \n",
      "3            HV0003               B02764               B02764   \n",
      "4            HV0003               B02764               B02764   \n",
      "\n",
      "     request_datetime   on_scene_datetime     pickup_datetime  \\\n",
      "0 2021-01-01 00:28:09 2021-01-01 00:31:42 2021-01-01 00:33:44   \n",
      "1 2021-01-01 00:45:56 2021-01-01 00:55:19 2021-01-01 00:55:19   \n",
      "2 2021-01-01 00:21:15 2021-01-01 00:22:41 2021-01-01 00:23:56   \n",
      "3 2021-01-01 00:39:12 2021-01-01 00:42:37 2021-01-01 00:42:51   \n",
      "4 2021-01-01 00:46:11 2021-01-01 00:47:17 2021-01-01 00:48:14   \n",
      "\n",
      "     dropoff_datetime  PULocationID  DOLocationID  trip_miles  ...  sales_tax  \\\n",
      "0 2021-01-01 00:49:07           230           166        5.26  ...       1.98   \n",
      "1 2021-01-01 01:18:21           152           167        3.65  ...       1.63   \n",
      "2 2021-01-01 00:38:05           233           142        3.51  ...       1.25   \n",
      "3 2021-01-01 00:45:50           142           143        0.74  ...       0.70   \n",
      "4 2021-01-01 01:08:42           143            78        9.20  ...       2.41   \n",
      "\n",
      "   congestion_surcharge  airport_fee  tips  driver_pay  shared_request_flag  \\\n",
      "0                  2.75          NaN  0.00       14.99                    N   \n",
      "1                  0.00          NaN  0.00       17.06                    N   \n",
      "2                  2.75          NaN  0.94       12.98                    N   \n",
      "3                  2.75          NaN  0.00        7.41                    N   \n",
      "4                  2.75          NaN  0.00       22.44                    N   \n",
      "\n",
      "   shared_match_flag  access_a_ride_flag  wav_request_flag wav_match_flag  \n",
      "0                  N                                     N              N  \n",
      "1                  N                                     N              N  \n",
      "2                  N                                     N              N  \n",
      "3                  N                                     N              N  \n",
      "4                  N                                     N              N  \n",
      "\n",
      "[5 rows x 24 columns]\n"
     ]
    }
   ],
   "source": [
    "data = pd.read_parquet(\"../fhvhv_tripdata_2021-01.parquet\", engine=\"pyarrow\")\n",
    "print(data.head())"
   ]
  },
  {
   "cell_type": "code",
   "execution_count": 4,
   "metadata": {},
   "outputs": [
    {
     "name": "stdout",
     "output_type": "stream",
     "text": [
      "  hvfhs_license_num dispatching_base_num originating_base_num  \\\n",
      "0            HV0003               B02682               B02682   \n",
      "1            HV0003               B02682               B02682   \n",
      "2            HV0003               B02764               B02764   \n",
      "3            HV0003               B02764               B02764   \n",
      "4            HV0003               B02764               B02764   \n",
      "\n",
      "     request_datetime   on_scene_datetime     pickup_datetime  \\\n",
      "0 2021-01-01 00:28:09 2021-01-01 00:31:42 2021-01-01 00:33:44   \n",
      "1 2021-01-01 00:45:56 2021-01-01 00:55:19 2021-01-01 00:55:19   \n",
      "2 2021-01-01 00:21:15 2021-01-01 00:22:41 2021-01-01 00:23:56   \n",
      "3 2021-01-01 00:39:12 2021-01-01 00:42:37 2021-01-01 00:42:51   \n",
      "4 2021-01-01 00:46:11 2021-01-01 00:47:17 2021-01-01 00:48:14   \n",
      "\n",
      "     dropoff_datetime  PULocationID  DOLocationID  trip_miles  ...  tips  \\\n",
      "0 2021-01-01 00:49:07           230           166        5.26  ...  0.00   \n",
      "1 2021-01-01 01:18:21           152           167        3.65  ...  0.00   \n",
      "2 2021-01-01 00:38:05           233           142        3.51  ...  0.94   \n",
      "3 2021-01-01 00:45:50           142           143        0.74  ...  0.00   \n",
      "4 2021-01-01 01:08:42           143            78        9.20  ...  0.00   \n",
      "\n",
      "   driver_pay  shared_request_flag  shared_match_flag  access_a_ride_flag  \\\n",
      "0       14.99                    N                  N                       \n",
      "1       17.06                    N                  N                       \n",
      "2       12.98                    N                  N                       \n",
      "3        7.41                    N                  N                       \n",
      "4       22.44                    N                  N                       \n",
      "\n",
      "   wav_request_flag  wav_match_flag  driver_pay_per_mile  trip_duration  \\\n",
      "0                 N               N             2.849810      15.383333   \n",
      "1                 N               N             4.673973      23.033333   \n",
      "2                 N               N             3.698006      14.150000   \n",
      "3                 N               N            10.013514       2.983333   \n",
      "4                 N               N             2.439130      20.466667   \n",
      "\n",
      "  driver_pay_per_minute  \n",
      "0              0.974431  \n",
      "1              0.740666  \n",
      "2              0.917314  \n",
      "3              2.483799  \n",
      "4              1.096417  \n",
      "\n",
      "[5 rows x 27 columns]\n"
     ]
    }
   ],
   "source": [
    "data['driver_pay_per_mile'] = data['driver_pay'] / data['trip_miles']\n",
    "data['trip_duration'] = (data['dropoff_datetime'] - data['pickup_datetime']).dt.total_seconds()/60\n",
    "data['driver_pay_per_minute'] = data['driver_pay'] / data['trip_duration']\n",
    "\n",
    "print(data.head())"
   ]
  },
  {
   "cell_type": "code",
   "execution_count": 5,
   "metadata": {},
   "outputs": [],
   "source": [
    "import tensorflow as tf\n",
    "from tensorflow import keras"
   ]
  },
  {
   "cell_type": "code",
   "execution_count": 11,
   "metadata": {},
   "outputs": [
    {
     "name": "stderr",
     "output_type": "stream",
     "text": [
      "c:\\Users\\bhavy\\AppData\\Local\\Programs\\Python\\Python311\\Lib\\site-packages\\keras\\src\\layers\\reshaping\\flatten.py:37: UserWarning: Do not pass an `input_shape`/`input_dim` argument to a layer. When using Sequential models, prefer using an `Input(shape)` object as the first layer in the model instead.\n",
      "  super().__init__(**kwargs)\n"
     ]
    },
    {
     "name": "stdout",
     "output_type": "stream",
     "text": [
      "Epoch 1/5\n",
      "\u001b[1m186070/186070\u001b[0m \u001b[32m━━━━━━━━━━━━━━━━━━━━\u001b[0m\u001b[37m\u001b[0m \u001b[1m234s\u001b[0m 1ms/step - loss: 10.3158\n",
      "Epoch 2/5\n",
      "\u001b[1m186070/186070\u001b[0m \u001b[32m━━━━━━━━━━━━━━━━━━━━\u001b[0m\u001b[37m\u001b[0m \u001b[1m220s\u001b[0m 1ms/step - loss: 9.3862\n",
      "Epoch 3/5\n",
      "\u001b[1m186070/186070\u001b[0m \u001b[32m━━━━━━━━━━━━━━━━━━━━\u001b[0m\u001b[37m\u001b[0m \u001b[1m219s\u001b[0m 1ms/step - loss: 9.6645\n",
      "Epoch 4/5\n",
      "\u001b[1m186070/186070\u001b[0m \u001b[32m━━━━━━━━━━━━━━━━━━━━\u001b[0m\u001b[37m\u001b[0m \u001b[1m221s\u001b[0m 1ms/step - loss: 9.7176\n",
      "Epoch 5/5\n",
      "\u001b[1m186070/186070\u001b[0m \u001b[32m━━━━━━━━━━━━━━━━━━━━\u001b[0m\u001b[37m\u001b[0m \u001b[1m227s\u001b[0m 1ms/step - loss: 9.6589\n",
      "\u001b[1m186070/186070\u001b[0m \u001b[32m━━━━━━━━━━━━━━━━━━━━\u001b[0m\u001b[37m\u001b[0m \u001b[1m180s\u001b[0m 967us/step\n",
      "[[11.340802]\n",
      " [ 6.036688]\n",
      " [10.085955]\n",
      " [ 5.905987]\n",
      " [ 6.07553 ]]\n",
      "5954234    10.72\n",
      "5954235     5.40\n",
      "5954236     9.47\n",
      "5954237     5.40\n",
      "5954238     6.32\n",
      "Name: driver_pay, dtype: float64\n"
     ]
    }
   ],
   "source": [
    "# create a neural network model for predicting driver pay per mile based on all trip data. Create a model with 3 hidden layers, each with 64 nodes and ReLU activation functions. Use the Adam optimizer and mean squared error loss function. Train the model for 10 epochs.\n",
    "\n",
    "model = keras.Sequential([\n",
    "    keras.layers.Flatten(input_shape=(2,)),\n",
    "    keras.layers.Dense(128, activation='relu'),\n",
    "    keras.layers.Dense(64, activation='relu'),\n",
    "    keras.layers.Dense(1, activation='linear')\n",
    "])\n",
    "\n",
    "# training data\n",
    "training_data = data[1:data.shape[0]//2]\n",
    "target_data = data[data.shape[0]//2:]\n",
    "model.compile(optimizer='adam', loss='mean_squared_error')\n",
    "\n",
    "model.fit(training_data[['trip_miles', 'trip_duration']], training_data['driver_pay'], epochs=5)\n",
    "\n",
    "# Use the model to predict driver pay per mile for the first 5 trips in the dataset. Compare the predicted values to the actual values.\n",
    "\n",
    "predictions = model.predict(target_data[['trip_miles', 'trip_duration']] )\n",
    "print(predictions[:5])\n",
    "print(target_data['driver_pay'][:5])\n",
    "\n"
   ]
  },
  {
   "cell_type": "code",
   "execution_count": 12,
   "metadata": {},
   "outputs": [
    {
     "name": "stdout",
     "output_type": "stream",
     "text": [
      "\u001b[1m186070/186070\u001b[0m \u001b[32m━━━━━━━━━━━━━━━━━━━━\u001b[0m\u001b[37m\u001b[0m \u001b[1m189s\u001b[0m 1ms/step - loss: 8.5704\n",
      "9.355286598205566\n"
     ]
    }
   ],
   "source": [
    "print(model.evaluate(target_data[['trip_miles', 'trip_duration']], target_data['driver_pay']))"
   ]
  },
  {
   "cell_type": "code",
   "execution_count": 13,
   "metadata": {},
   "outputs": [],
   "source": [
    "model.save('my_model.keras')"
   ]
  },
  {
   "cell_type": "code",
   "execution_count": 23,
   "metadata": {},
   "outputs": [
    {
     "name": "stdout",
     "output_type": "stream",
     "text": [
      "\u001b[1m1/2\u001b[0m \u001b[32m━━━━━━━━━━\u001b[0m\u001b[37m━━━━━━━━━━\u001b[0m \u001b[1m0s\u001b[0m 53ms/stepWARNING:tensorflow:5 out of the last 186073 calls to <function TensorFlowTrainer.make_predict_function.<locals>.one_step_on_data_distributed at 0x000001F8464AEAC0> triggered tf.function retracing. Tracing is expensive and the excessive number of tracings could be due to (1) creating @tf.function repeatedly in a loop, (2) passing tensors with different shapes, (3) passing Python objects instead of tensors. For (1), please define your @tf.function outside of the loop. For (2), @tf.function has reduce_retracing=True option that can avoid unnecessary retracing. For (3), please refer to https://www.tensorflow.org/guide/function#controlling_retracing and https://www.tensorflow.org/api_docs/python/tf/function for  more details.\n",
      "\u001b[1m2/2\u001b[0m \u001b[32m━━━━━━━━━━━━━━━━━━━━\u001b[0m\u001b[37m\u001b[0m \u001b[1m0s\u001b[0m 46ms/step\n",
      "[[ 6.036688 ]\n",
      " [10.085955 ]\n",
      " [ 5.905987 ]\n",
      " [ 6.07553  ]\n",
      " [11.788852 ]\n",
      " [ 6.6538496]\n",
      " [ 6.6538496]\n",
      " [12.050205 ]\n",
      " [14.300811 ]\n",
      " [ 6.1049414]\n",
      " [ 5.953967 ]\n",
      " [ 6.961256 ]\n",
      " [49.10934  ]\n",
      " [27.036638 ]\n",
      " [ 9.482059 ]\n",
      " [ 9.052041 ]\n",
      " [ 6.0113697]\n",
      " [26.31416  ]\n",
      " [ 8.627387 ]\n",
      " [13.940819 ]\n",
      " [ 8.22101  ]\n",
      " [10.112573 ]\n",
      " [ 6.2367926]\n",
      " [28.552801 ]\n",
      " [12.233469 ]\n",
      " [ 7.2398434]\n",
      " [23.060116 ]\n",
      " [ 6.000741 ]\n",
      " [ 6.0315437]\n",
      " [12.854951 ]\n",
      " [ 9.121206 ]\n",
      " [19.923515 ]\n",
      " [ 9.716449 ]\n",
      " [ 8.563349 ]\n",
      " [ 5.9578676]\n",
      " [13.688239 ]\n",
      " [ 6.8834724]\n",
      " [ 9.445472 ]\n",
      " [ 8.453664 ]\n",
      " [16.718786 ]\n",
      " [19.244373 ]\n",
      " [ 5.8845997]\n",
      " [17.932804 ]\n",
      " [18.198654 ]\n",
      " [31.99241  ]\n",
      " [ 5.976926 ]\n",
      " [ 6.145316 ]\n",
      " [ 5.9407225]\n",
      " [19.79589  ]]\n",
      "5954235     5.40\n",
      "5954236     9.47\n",
      "5954237     5.40\n",
      "5954238     6.32\n",
      "5954239    14.50\n",
      "5954240     6.13\n",
      "5954241     6.13\n",
      "5954242    11.41\n",
      "5954243    13.62\n",
      "5954244     5.47\n",
      "5954245     5.39\n",
      "5954246     6.43\n",
      "5954247    53.79\n",
      "5954248    26.02\n",
      "5954249     8.89\n",
      "5954250     8.47\n",
      "5954251     5.40\n",
      "5954252    25.23\n",
      "5954253     8.05\n",
      "5954254    13.24\n",
      "5954255     7.65\n",
      "5954256     9.50\n",
      "5954257     5.71\n",
      "5954258    27.43\n",
      "5954259    11.56\n",
      "5954260     6.69\n",
      "5954261    22.14\n",
      "5954262     5.40\n",
      "5954263     5.52\n",
      "5954264    13.75\n",
      "5954265     8.53\n",
      "5954266    19.08\n",
      "5954267     9.11\n",
      "5954268     7.99\n",
      "5954269     5.39\n",
      "5954270    12.99\n",
      "5954271     6.34\n",
      "5954272     8.87\n",
      "5954273     7.90\n",
      "5954274    16.00\n",
      "5954275    18.47\n",
      "5954276     5.39\n",
      "5954277    17.17\n",
      "5954278    17.39\n",
      "5954279    30.50\n",
      "5954280     5.40\n",
      "5954281     5.40\n",
      "5954282     5.40\n",
      "5954283    18.95\n",
      "Name: driver_pay, dtype: float64\n"
     ]
    }
   ],
   "source": [
    "new_model = tf.keras.models.load_model('my_model.keras')\n",
    "\n",
    "print(new_model.predict(target_data[1:50][['trip_miles', 'trip_duration']]))\n",
    "print(target_data[1:50]['driver_pay'])"
   ]
  },
  {
   "cell_type": "code",
   "execution_count": null,
   "metadata": {},
   "outputs": [],
   "source": []
  }
 ],
 "metadata": {
  "kernelspec": {
   "display_name": "Python 3",
   "language": "python",
   "name": "python3"
  },
  "language_info": {
   "codemirror_mode": {
    "name": "ipython",
    "version": 3
   },
   "file_extension": ".py",
   "mimetype": "text/x-python",
   "name": "python",
   "nbconvert_exporter": "python",
   "pygments_lexer": "ipython3",
   "version": "3.11.2"
  }
 },
 "nbformat": 4,
 "nbformat_minor": 2
}
